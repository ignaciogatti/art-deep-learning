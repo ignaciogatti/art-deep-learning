{
 "cells": [
  {
   "cell_type": "code",
   "execution_count": 1,
   "metadata": {},
   "outputs": [
    {
     "name": "stderr",
     "output_type": "stream",
     "text": [
      "Using TensorFlow backend.\n"
     ]
    },
    {
     "name": "stdout",
     "output_type": "stream",
     "text": [
      "1.2.1\n",
      "2.0.6\n"
     ]
    }
   ],
   "source": [
    "import tensorflow as tf\n",
    "import keras\n",
    "from keras import backend as K\n",
    "import numpy as np\n",
    "import pandas as pd\n",
    "%matplotlib inline\n",
    "import matplotlib.pyplot as plt\n",
    "print(tf.__version__)\n",
    "print(keras.__version__)\n",
    "import cv2  # for image processing\n",
    "from sklearn.model_selection import train_test_split\n",
    "import scipy.io\n",
    "import os\n",
    "import h5py\n",
    "from arts_preprocess_utils import load_dataset\n",
    "from keras.preprocessing.image import ImageDataGenerator\n",
    "import scipy\n",
    "#from scipy.spatial.distance import directed_hausdorff, cosine\n",
    "from IPython import display"
   ]
  },
  {
   "cell_type": "code",
   "execution_count": 2,
   "metadata": {},
   "outputs": [],
   "source": [
    "# !!! remember to clear session/graph if you rebuild your graph to avoid out-of-memory errors !!!\n",
    "def reset_tf_session():\n",
    "    K.clear_session()\n",
    "    tf.reset_default_graph()\n",
    "    s = K.get_session()\n",
    "    return s"
   ]
  },
  {
   "cell_type": "code",
   "execution_count": 3,
   "metadata": {},
   "outputs": [
    {
     "data": {
      "text/plain": [
       "<tensorflow.python.client.session.Session at 0x7f81b4c2be48>"
      ]
     },
     "execution_count": 3,
     "metadata": {},
     "output_type": "execute_result"
    }
   ],
   "source": [
    "reset_tf_session()"
   ]
  },
  {
   "cell_type": "markdown",
   "metadata": {},
   "source": [
    "## Load data"
   ]
  },
  {
   "cell_type": "markdown",
   "metadata": {},
   "source": [
    "**Metada**"
   ]
  },
  {
   "cell_type": "code",
   "execution_count": 4,
   "metadata": {},
   "outputs": [
    {
     "data": {
      "text/html": [
       "<div>\n",
       "<table border=\"1\" class=\"dataframe\">\n",
       "  <thead>\n",
       "    <tr style=\"text-align: right;\">\n",
       "      <th></th>\n",
       "      <th>filename</th>\n",
       "      <th>title</th>\n",
       "      <th>style</th>\n",
       "      <th>genre</th>\n",
       "      <th>date</th>\n",
       "      <th>artist</th>\n",
       "    </tr>\n",
       "  </thead>\n",
       "  <tbody>\n",
       "    <tr>\n",
       "      <th>0</th>\n",
       "      <td>70944.jpg</td>\n",
       "      <td>Forbidden Land</td>\n",
       "      <td>Surrealism</td>\n",
       "      <td>landscape</td>\n",
       "      <td>1937.0</td>\n",
       "      <td>Wolfgang Paalen</td>\n",
       "    </tr>\n",
       "    <tr>\n",
       "      <th>1</th>\n",
       "      <td>99442.jpg</td>\n",
       "      <td>Storm at sea</td>\n",
       "      <td>Romanticism</td>\n",
       "      <td>marina</td>\n",
       "      <td>1873</td>\n",
       "      <td>Ivan Aivazovsky</td>\n",
       "    </tr>\n",
       "    <tr>\n",
       "      <th>2</th>\n",
       "      <td>28908.jpg</td>\n",
       "      <td>Yachting in the Mediterranean</td>\n",
       "      <td>Realism</td>\n",
       "      <td>genre painting</td>\n",
       "      <td>1896</td>\n",
       "      <td>Julius LeBlanc Stewart</td>\n",
       "    </tr>\n",
       "    <tr>\n",
       "      <th>3</th>\n",
       "      <td>7486.jpg</td>\n",
       "      <td>Death of Eleazer</td>\n",
       "      <td>Romanticism</td>\n",
       "      <td>religious painting</td>\n",
       "      <td>1866</td>\n",
       "      <td>Gustave Dore</td>\n",
       "    </tr>\n",
       "    <tr>\n",
       "      <th>4</th>\n",
       "      <td>35766.jpg</td>\n",
       "      <td>The-Deluge</td>\n",
       "      <td>Romanticism</td>\n",
       "      <td>religious painting</td>\n",
       "      <td>NaN</td>\n",
       "      <td>Gustave Dore</td>\n",
       "    </tr>\n",
       "  </tbody>\n",
       "</table>\n",
       "</div>"
      ],
      "text/plain": [
       "    filename                          title        style               genre  \\\n",
       "0  70944.jpg                Forbidden Land    Surrealism           landscape   \n",
       "1  99442.jpg                   Storm at sea  Romanticism              marina   \n",
       "2  28908.jpg  Yachting in the Mediterranean      Realism      genre painting   \n",
       "3   7486.jpg               Death of Eleazer  Romanticism  religious painting   \n",
       "4  35766.jpg                     The-Deluge  Romanticism  religious painting   \n",
       "\n",
       "     date                  artist  \n",
       "0  1937.0         Wolfgang Paalen  \n",
       "1    1873         Ivan Aivazovsky  \n",
       "2    1896  Julius LeBlanc Stewart  \n",
       "3    1866            Gustave Dore  \n",
       "4     NaN            Gustave Dore  "
      ]
     },
     "execution_count": 4,
     "metadata": {},
     "output_type": "execute_result"
    }
   ],
   "source": [
    "df_artworks = pd.read_csv('/root/work/datasets/train_mayors_style.csv')\n",
    "df_artworks.head()"
   ]
  },
  {
   "cell_type": "markdown",
   "metadata": {},
   "source": [
    "**Image shape**"
   ]
  },
  {
   "cell_type": "code",
   "execution_count": 5,
   "metadata": {},
   "outputs": [],
   "source": [
    "#According to the dataset input used during autoencoder training\n",
    "\n",
    "img_Height = 128\n",
    "img_Width = 128\n",
    "chanels= 3\n",
    "N_CLASSES = 1"
   ]
  },
  {
   "cell_type": "markdown",
   "metadata": {},
   "source": [
    "### Build encoder"
   ]
  },
  {
   "cell_type": "code",
   "execution_count": 6,
   "metadata": {},
   "outputs": [],
   "source": [
    "from models import Generator_model_complex, Discriminator_model\n",
    "\n",
    "def build_deep_autoencoder(img_shape, code_size, filters = 40):\n",
    "    \n",
    "    encoder_model = Discriminator_model(filters=filters, code_shape=code_size, include_top=False)\n",
    "    encoder = encoder_model.get_model(img_shape, N_CLASSES, False)\n",
    "    \n",
    "    decoder_model = Generator_model_complex(filters=filters, code_shape= (1,1,code_size))\n",
    "    decoder = decoder_model.get_model(img_shape)\n",
    "    \n",
    "    return encoder, decoder"
   ]
  },
  {
   "cell_type": "code",
   "execution_count": 7,
   "metadata": {},
   "outputs": [],
   "source": [
    "encoder, decoder = build_deep_autoencoder((img_Height, img_Width, 3), 300)"
   ]
  },
  {
   "cell_type": "code",
   "execution_count": 8,
   "metadata": {},
   "outputs": [],
   "source": [
    "encoder.load_weights('./weigths/denoisy_encoder01.h5')"
   ]
  },
  {
   "cell_type": "code",
   "execution_count": 9,
   "metadata": {},
   "outputs": [
    {
     "name": "stdout",
     "output_type": "stream",
     "text": [
      "_________________________________________________________________\n",
      "Layer (type)                 Output Shape              Param #   \n",
      "=================================================================\n",
      "conv2d_1 (Conv2D)            (None, 64, 64, 40)        1960      \n",
      "_________________________________________________________________\n",
      "batch_normalization_1 (Batch (None, 64, 64, 40)        160       \n",
      "_________________________________________________________________\n",
      "leaky_re_lu_1 (LeakyReLU)    (None, 64, 64, 40)        0         \n",
      "_________________________________________________________________\n",
      "conv2d_2 (Conv2D)            (None, 32, 32, 80)        51280     \n",
      "_________________________________________________________________\n",
      "batch_normalization_2 (Batch (None, 32, 32, 80)        320       \n",
      "_________________________________________________________________\n",
      "leaky_re_lu_2 (LeakyReLU)    (None, 32, 32, 80)        0         \n",
      "_________________________________________________________________\n",
      "conv2d_3 (Conv2D)            (None, 16, 16, 160)       204960    \n",
      "_________________________________________________________________\n",
      "batch_normalization_3 (Batch (None, 16, 16, 160)       640       \n",
      "_________________________________________________________________\n",
      "leaky_re_lu_3 (LeakyReLU)    (None, 16, 16, 160)       0         \n",
      "_________________________________________________________________\n",
      "conv2d_4 (Conv2D)            (None, 8, 8, 320)         819520    \n",
      "_________________________________________________________________\n",
      "batch_normalization_4 (Batch (None, 8, 8, 320)         1280      \n",
      "_________________________________________________________________\n",
      "leaky_re_lu_4 (LeakyReLU)    (None, 8, 8, 320)         0         \n",
      "_________________________________________________________________\n",
      "conv2d_5 (Conv2D)            (None, 4, 4, 640)         3277440   \n",
      "_________________________________________________________________\n",
      "batch_normalization_5 (Batch (None, 4, 4, 640)         2560      \n",
      "_________________________________________________________________\n",
      "leaky_re_lu_5 (LeakyReLU)    (None, 4, 4, 640)         0         \n",
      "_________________________________________________________________\n",
      "conv2d_6 (Conv2D)            (None, 1, 1, 300)         3072300   \n",
      "_________________________________________________________________\n",
      "batch_normalization_6 (Batch (None, 1, 1, 300)         1200      \n",
      "_________________________________________________________________\n",
      "leaky_re_lu_6 (LeakyReLU)    (None, 1, 1, 300)         0         \n",
      "=================================================================\n",
      "Total params: 7,433,620\n",
      "Trainable params: 7,430,540\n",
      "Non-trainable params: 3,080\n",
      "_________________________________________________________________\n"
     ]
    }
   ],
   "source": [
    "encoder.summary()"
   ]
  },
  {
   "cell_type": "markdown",
   "metadata": {},
   "source": [
    "## Encode artworks"
   ]
  },
  {
   "cell_type": "code",
   "execution_count": 10,
   "metadata": {},
   "outputs": [],
   "source": [
    "import zipfile\n",
    "\n",
    "#dataset from Kaggle\n",
    "filezip = zipfile.ZipFile('/root/work/datasets/train.zip', 'r')"
   ]
  },
  {
   "cell_type": "code",
   "execution_count": 11,
   "metadata": {},
   "outputs": [],
   "source": [
    "def get_image(path):\n",
    "    #load image\n",
    "    image = cv2.imread(path)\n",
    "    image = cv2.resize(image, (img_Width, img_Height), interpolation=cv2.INTER_CUBIC)\n",
    "    #normalize image\n",
    "    image_norm = image * (1./255)\n",
    "    image_norm = np.expand_dims(image_norm, axis=0)\n",
    "    \n",
    "    return image_norm\n",
    "    "
   ]
  },
  {
   "cell_type": "code",
   "execution_count": 12,
   "metadata": {},
   "outputs": [],
   "source": [
    "import os\n",
    "\n",
    "def encode_artworks(x, encoder):\n",
    "\n",
    "    try:\n",
    "        img_path = filezip.extract('train/' + x)\n",
    "        # Images\n",
    "        image = get_image(img_path)\n",
    "\n",
    "        # Encode\n",
    "        code = encoder.predict(image)\n",
    "        \n",
    "        try:\n",
    "            os.remove(img_path)\n",
    "        except OSError as e:  ## if failed, report it back to the user ##\n",
    "            print (\"Error: %s - %s.\" % (e.filename, e.strerror))\n",
    "            \n",
    "        return code.reshape((-1,))\n",
    "\n",
    "    except:\n",
    "        print(\"Problem with file \" + x)\n",
    "        return None\n"
   ]
  },
  {
   "cell_type": "code",
   "execution_count": 13,
   "metadata": {},
   "outputs": [
    {
     "name": "stdout",
     "output_type": "stream",
     "text": [
      "Problem with file 69008.jpg\n",
      "Problem with file 121.jpg\n",
      "Problem with file 38324.jpg\n",
      "Problem with file 32150.jpg\n",
      "Problem with file 32577.jpg\n",
      "Problem with file 32192.jpg\n",
      "Problem with file 50789.jpg\n"
     ]
    }
   ],
   "source": [
    "df_artworks['code'] = df_artworks['filename'].apply(encode_artworks, encoder=encoder)"
   ]
  },
  {
   "cell_type": "code",
   "execution_count": 14,
   "metadata": {},
   "outputs": [
    {
     "data": {
      "text/html": [
       "<div>\n",
       "<table border=\"1\" class=\"dataframe\">\n",
       "  <thead>\n",
       "    <tr style=\"text-align: right;\">\n",
       "      <th></th>\n",
       "      <th>filename</th>\n",
       "      <th>title</th>\n",
       "      <th>style</th>\n",
       "      <th>genre</th>\n",
       "      <th>date</th>\n",
       "      <th>artist</th>\n",
       "      <th>code</th>\n",
       "    </tr>\n",
       "  </thead>\n",
       "  <tbody>\n",
       "    <tr>\n",
       "      <th>0</th>\n",
       "      <td>70944.jpg</td>\n",
       "      <td>Forbidden Land</td>\n",
       "      <td>Surrealism</td>\n",
       "      <td>landscape</td>\n",
       "      <td>1937.0</td>\n",
       "      <td>Wolfgang Paalen</td>\n",
       "      <td>[1.16539, 1.28992, 1.7879, 0.264377, 1.30938, ...</td>\n",
       "    </tr>\n",
       "    <tr>\n",
       "      <th>1</th>\n",
       "      <td>99442.jpg</td>\n",
       "      <td>Storm at sea</td>\n",
       "      <td>Romanticism</td>\n",
       "      <td>marina</td>\n",
       "      <td>1873</td>\n",
       "      <td>Ivan Aivazovsky</td>\n",
       "      <td>[0.0501826, 0.68001, 1.09941, 0.763883, 0.5918...</td>\n",
       "    </tr>\n",
       "    <tr>\n",
       "      <th>2</th>\n",
       "      <td>28908.jpg</td>\n",
       "      <td>Yachting in the Mediterranean</td>\n",
       "      <td>Realism</td>\n",
       "      <td>genre painting</td>\n",
       "      <td>1896</td>\n",
       "      <td>Julius LeBlanc Stewart</td>\n",
       "      <td>[-0.034542, 0.970973, 1.31414, 1.11773, 0.5739...</td>\n",
       "    </tr>\n",
       "    <tr>\n",
       "      <th>3</th>\n",
       "      <td>7486.jpg</td>\n",
       "      <td>Death of Eleazer</td>\n",
       "      <td>Romanticism</td>\n",
       "      <td>religious painting</td>\n",
       "      <td>1866</td>\n",
       "      <td>Gustave Dore</td>\n",
       "      <td>[0.387026, 0.229165, 0.831276, 0.408633, 0.812...</td>\n",
       "    </tr>\n",
       "    <tr>\n",
       "      <th>4</th>\n",
       "      <td>35766.jpg</td>\n",
       "      <td>The-Deluge</td>\n",
       "      <td>Romanticism</td>\n",
       "      <td>religious painting</td>\n",
       "      <td>NaN</td>\n",
       "      <td>Gustave Dore</td>\n",
       "      <td>[0.0899346, -0.0333367, 0.118036, 0.869628, 0....</td>\n",
       "    </tr>\n",
       "  </tbody>\n",
       "</table>\n",
       "</div>"
      ],
      "text/plain": [
       "    filename                          title        style               genre  \\\n",
       "0  70944.jpg                Forbidden Land    Surrealism           landscape   \n",
       "1  99442.jpg                   Storm at sea  Romanticism              marina   \n",
       "2  28908.jpg  Yachting in the Mediterranean      Realism      genre painting   \n",
       "3   7486.jpg               Death of Eleazer  Romanticism  religious painting   \n",
       "4  35766.jpg                     The-Deluge  Romanticism  religious painting   \n",
       "\n",
       "     date                  artist  \\\n",
       "0  1937.0         Wolfgang Paalen   \n",
       "1    1873         Ivan Aivazovsky   \n",
       "2    1896  Julius LeBlanc Stewart   \n",
       "3    1866            Gustave Dore   \n",
       "4     NaN            Gustave Dore   \n",
       "\n",
       "                                                code  \n",
       "0  [1.16539, 1.28992, 1.7879, 0.264377, 1.30938, ...  \n",
       "1  [0.0501826, 0.68001, 1.09941, 0.763883, 0.5918...  \n",
       "2  [-0.034542, 0.970973, 1.31414, 1.11773, 0.5739...  \n",
       "3  [0.387026, 0.229165, 0.831276, 0.408633, 0.812...  \n",
       "4  [0.0899346, -0.0333367, 0.118036, 0.869628, 0....  "
      ]
     },
     "execution_count": 14,
     "metadata": {},
     "output_type": "execute_result"
    }
   ],
   "source": [
    "df_artworks.head()"
   ]
  },
  {
   "cell_type": "code",
   "execution_count": 35,
   "metadata": {},
   "outputs": [
    {
     "data": {
      "text/plain": [
       "False    46010\n",
       "True         7\n",
       "Name: code, dtype: int64"
      ]
     },
     "execution_count": 35,
     "metadata": {},
     "output_type": "execute_result"
    }
   ],
   "source": [
    "df_artworks['code'].isnull().value_counts()"
   ]
  },
  {
   "cell_type": "code",
   "execution_count": 36,
   "metadata": {},
   "outputs": [
    {
     "data": {
      "text/plain": [
       "(46010, 7)"
      ]
     },
     "execution_count": 36,
     "metadata": {},
     "output_type": "execute_result"
    }
   ],
   "source": [
    "#Drop null values\n",
    "df_artworks = df_artworks.dropna(subset=['code'])\n",
    "df_artworks.shape"
   ]
  },
  {
   "cell_type": "markdown",
   "metadata": {},
   "source": [
    "## Save values"
   ]
  },
  {
   "cell_type": "code",
   "execution_count": 37,
   "metadata": {},
   "outputs": [],
   "source": [
    "df_artworks.to_csv('/root/work/datasets/train_mayors_style_encoded.csv', index=False)"
   ]
  },
  {
   "cell_type": "code",
   "execution_count": 38,
   "metadata": {},
   "outputs": [],
   "source": [
    "encodes_list = list(df_artworks['code'])"
   ]
  },
  {
   "cell_type": "code",
   "execution_count": 40,
   "metadata": {},
   "outputs": [
    {
     "data": {
      "text/plain": [
       "(46010, 300)"
      ]
     },
     "execution_count": 40,
     "metadata": {},
     "output_type": "execute_result"
    }
   ],
   "source": [
    "encode_matrix = np.stack(encodes_list)\n",
    "encode_matrix.shape"
   ]
  },
  {
   "cell_type": "code",
   "execution_count": 42,
   "metadata": {},
   "outputs": [],
   "source": [
    "np.save('/root/work/datasets/train_mayors_style_encode', encode_matrix)"
   ]
  },
  {
   "cell_type": "code",
   "execution_count": null,
   "metadata": {},
   "outputs": [],
   "source": []
  },
  {
   "cell_type": "code",
   "execution_count": null,
   "metadata": {},
   "outputs": [],
   "source": [
    "df_toy = df_artworks[0:10]\n",
    "df_toy"
   ]
  },
  {
   "cell_type": "code",
   "execution_count": null,
   "metadata": {},
   "outputs": [],
   "source": [
    "df_toy['code'] = df_toy['filename'].apply(encode_artworks, encoder=encoder)"
   ]
  },
  {
   "cell_type": "code",
   "execution_count": null,
   "metadata": {},
   "outputs": [],
   "source": [
    "df_toy"
   ]
  }
 ],
 "metadata": {
  "kernelspec": {
   "display_name": "Python 3",
   "language": "python",
   "name": "python3"
  },
  "language_info": {
   "codemirror_mode": {
    "name": "ipython",
    "version": 3
   },
   "file_extension": ".py",
   "mimetype": "text/x-python",
   "name": "python",
   "nbconvert_exporter": "python",
   "pygments_lexer": "ipython3",
   "version": "3.5.2"
  }
 },
 "nbformat": 4,
 "nbformat_minor": 2
}
