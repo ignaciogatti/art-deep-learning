{
 "cells": [
  {
   "cell_type": "code",
   "execution_count": null,
   "metadata": {},
   "outputs": [],
   "source": [
    "import pandas as pd\n",
    "import numpy as np\n",
    "import cv2  # for image processing\n",
    "import scipy.io\n",
    "import os\n",
    "from arts_preprocess_utils import load_dataset, get_image\n",
    "import scipy\n",
    "#from scipy.spatial.distance import directed_hausdorff, cosine\n",
    "from IPython import display\n",
    "%matplotlib inline\n",
    "import matplotlib.pyplot as plt\n",
    "import seaborn as sns"
   ]
  },
  {
   "cell_type": "code",
   "execution_count": null,
   "metadata": {},
   "outputs": [],
   "source": [
    "def colum_distribution(df, col):\n",
    "    df_col = df.groupby(col)[col].count()\n",
    "    return df_col"
   ]
  },
  {
   "cell_type": "markdown",
   "metadata": {},
   "source": [
    "## Load Data"
   ]
  },
  {
   "cell_type": "code",
   "execution_count": null,
   "metadata": {},
   "outputs": [],
   "source": [
    "#Artwork metadata\n",
    "\n",
    "df_artworks = pd.read_csv('/root/work/datasets/train_mayors_style_encoded.csv')\n",
    "df_artworks = df_artworks[['filename', 'title', 'style', 'genre']]\n",
    "df_artworks.head()"
   ]
  },
  {
   "cell_type": "code",
   "execution_count": null,
   "metadata": {},
   "outputs": [],
   "source": [
    "df_sample = df_artworks.sample(n=10000)"
   ]
  },
  {
   "cell_type": "code",
   "execution_count": null,
   "metadata": {},
   "outputs": [],
   "source": [
    "#Artwork codes\n",
    "\n",
    "artwork_vgg19_code_matrix = np.load('/root/work/datasets/train_mayors_style_encoded_vgg19.npy')\n",
    "artwork_code_matrix = np.load('/root/work/datasets/train_mayors_style_encode.npy')\n",
    "artwork_w_code_matrix = np.load('/root/work/datasets/train_mayors_style_w_encoded.npy')\n",
    "artwork_code_matrix.shape"
   ]
  },
  {
   "cell_type": "code",
   "execution_count": null,
   "metadata": {},
   "outputs": [],
   "source": [
    "#Take the sample\n",
    "\n",
    "artwork_vgg19_code_matrix_sample = np.take(artwork_vgg19_code_matrix, df_sample.index, axis=0)\n",
    "artwork_code_matrix_sample = np.take(artwork_code_matrix, df_sample.index, axis=0)\n",
    "artwork_w_code_matrix_sample = np.take(artwork_w_code_matrix, df_sample.index, axis=0)\n",
    "artwork_vgg19_code_matrix_sample.shape"
   ]
  },
  {
   "cell_type": "markdown",
   "metadata": {},
   "source": [
    "### Style distribution"
   ]
  },
  {
   "cell_type": "markdown",
   "metadata": {},
   "source": [
    "Check if the sample is good represantition of the population"
   ]
  },
  {
   "cell_type": "code",
   "execution_count": null,
   "metadata": {},
   "outputs": [],
   "source": [
    "df_style = colum_distribution(df=df_artworks, col='style')\n",
    "df_style_sample = colum_distribution(df=df_sample, col='style')\n",
    "df_style"
   ]
  },
  {
   "cell_type": "code",
   "execution_count": null,
   "metadata": {},
   "outputs": [],
   "source": [
    "fig, ax =plt.subplots(1,2, figsize=(12,10))\n",
    "g_total = sns.barplot(x=df_style.index, y=df_style.values, ax=ax[0])\n",
    "g_total.set_xticklabels(g_total.get_xticklabels(), rotation=90)\n",
    "g_total.set(xlabel='Style')\n",
    "g_sample = sns.barplot(x=df_style_sample.index, y=df_style_sample.values, ax=ax[1])\n",
    "g_sample.set_xticklabels(g_sample.get_xticklabels(), rotation=90)\n",
    "g_sample.set(xlabel='Style sample')"
   ]
  },
  {
   "cell_type": "markdown",
   "metadata": {},
   "source": [
    "### TSNE distribution"
   ]
  },
  {
   "cell_type": "code",
   "execution_count": null,
   "metadata": {},
   "outputs": [],
   "source": [
    "from sklearn.manifold import TSNE\n",
    "from sklearn.decomposition import PCA\n",
    "\n",
    "pca = PCA(n_components=100)\n",
    "tsne = TSNE(n_components=2, perplexity=10, n_iter=500)"
   ]
  },
  {
   "cell_type": "markdown",
   "metadata": {},
   "source": [
    "Reduce dimensions to plot TSNE distribution. Because some approaches are high dimensional, first we do an approximation using PCA and the apply TSNE."
   ]
  },
  {
   "cell_type": "code",
   "execution_count": null,
   "metadata": {},
   "outputs": [],
   "source": [
    "from sklearn.pipeline import Pipeline\n",
    "\n",
    "pca_tsne = Pipeline([\n",
    "    ('pca', pca),\n",
    "    ('tsne', tsne)])"
   ]
  },
  {
   "cell_type": "code",
   "execution_count": null,
   "metadata": {},
   "outputs": [],
   "source": [
    "tsne_result = pca_tsne.fit_transform(artwork_code_matrix_sample)\n",
    "tsne_result_w = tsne.fit_transform(artwork_w_code_matrix_sample)\n",
    "#tsne_result_vgg19 = pca_tsne.fit_transform(artwork_vgg19_code_matrix_sample)"
   ]
  },
  {
   "cell_type": "code",
   "execution_count": null,
   "metadata": {},
   "outputs": [],
   "source": [
    "df_sample['tsne-x'] = tsne_result[:,0]\n",
    "df_sample['tsne-y'] = tsne_result[:,1]\n",
    "df_sample['w-tsne-x'] = tsne_result_w[:,0]\n",
    "df_sample['w-tsne-y'] = tsne_result_w[:,1]\n",
    "#df_sample['vgg19-tsne-x'] = tsne_result_vgg19[:,0]\n",
    "#df_sample['vgg19-tsne-y'] = tsne_result_vgg19[:,1]\n",
    "\n",
    "df_sample.head()"
   ]
  },
  {
   "cell_type": "markdown",
   "metadata": {},
   "source": [
    "### Plot distribution"
   ]
  },
  {
   "cell_type": "markdown",
   "metadata": {},
   "source": [
    "**Plot all together**\n",
    "\n",
    "Do not look nice yet. But it is useful to see all data in one plot"
   ]
  },
  {
   "cell_type": "code",
   "execution_count": null,
   "metadata": {},
   "outputs": [],
   "source": [
    "fig, ax =plt.subplots(1,2, figsize=(25,12))\n",
    "\n",
    "left   =  0.125  # the left side of the subplots of the figure\n",
    "right  =  0.9    # the right side of the subplots of the figure\n",
    "bottom =  0.1    # the bottom of the subplots of the figure\n",
    "top    =  0.9    # the top of the subplots of the figure\n",
    "wspace =  .5     # the amount of width reserved for blank space between subplots\n",
    "hspace =  1.1    # the amount of height reserved for white space between subplots\n",
    "\n",
    "# This function actually adjusts the sub plots using the above paramters\n",
    "plt.subplots_adjust(\n",
    "    left    =  left, \n",
    "    bottom  =  bottom, \n",
    "    right   =  right, \n",
    "    top     =  top, \n",
    "    wspace  =  wspace, \n",
    "    hspace  =  hspace\n",
    ")\n",
    "sns.scatterplot(x='tsne-x', y='tsne-y', hue='style', data=df_sample, ax=ax[0]).set_title('Denoisy encoder')\n",
    "sns.scatterplot(x='w-tsne-x', y='w-tsne-y', hue='style', data=df_sample, ax=ax[1]).set_title('Wasserstein encoder')\n",
    "#sns.scatterplot(x='vgg19-tsne-x', y='vgg19-tsne-y', hue='style', data=df_sample, ax=ax[2]).set_title('VGG19 feature layer')"
   ]
  },
  {
   "cell_type": "code",
   "execution_count": null,
   "metadata": {},
   "outputs": [],
   "source": [
    "fig.savefig('./image_result/tsne-analysis-together.jpg')"
   ]
  },
  {
   "cell_type": "markdown",
   "metadata": {},
   "source": [
    "**Plot indivudually**\n",
    "\n",
    "Look better"
   ]
  },
  {
   "cell_type": "code",
   "execution_count": null,
   "metadata": {},
   "outputs": [],
   "source": [
    "fig = plt.figure(figsize=(20,12))\n",
    "ax = sns.scatterplot(x='tsne-x', y='tsne-y', hue='style', data=df_sample)\n",
    "ax.set_title('Denoisy encoder', fontsize=30)\n",
    "ax.legend(fontsize= 14)"
   ]
  },
  {
   "cell_type": "code",
   "execution_count": null,
   "metadata": {},
   "outputs": [],
   "source": [
    "fig.savefig('./image_result/tsne-analysis-denoisy.jpg')"
   ]
  },
  {
   "cell_type": "code",
   "execution_count": null,
   "metadata": {},
   "outputs": [],
   "source": [
    "fig = plt.figure(figsize=(20,12))\n",
    "ax = sns.scatterplot(x='w-tsne-x', y='w-tsne-y', hue='style', data=df_sample)\n",
    "ax.set_title('Wasserstein encoder', fontsize=30)\n",
    "ax.legend(fontsize= 14)"
   ]
  },
  {
   "cell_type": "code",
   "execution_count": null,
   "metadata": {},
   "outputs": [],
   "source": [
    "fig.savefig('./image_result/tsne-analysis-wasserstein.jpg')"
   ]
  },
  {
   "cell_type": "code",
   "execution_count": null,
   "metadata": {},
   "outputs": [],
   "source": [
    "fig = plt.figure(figsize=(20,12))\n",
    "sns.scatterplot(x='vgg19-tsne-x', y='vgg19-tsne-y', hue='style', data=df_sample).set_title('VGG19 feature layer')"
   ]
  },
  {
   "cell_type": "code",
   "execution_count": null,
   "metadata": {},
   "outputs": [],
   "source": [
    "fig.savefig('./image_result/tsne-analysis-vgg19.jpg')"
   ]
  },
  {
   "cell_type": "code",
   "execution_count": null,
   "metadata": {},
   "outputs": [],
   "source": []
  }
 ],
 "metadata": {
  "kernelspec": {
   "display_name": "Python 3",
   "language": "python",
   "name": "python3"
  },
  "language_info": {
   "codemirror_mode": {
    "name": "ipython",
    "version": 3
   },
   "file_extension": ".py",
   "mimetype": "text/x-python",
   "name": "python",
   "nbconvert_exporter": "python",
   "pygments_lexer": "ipython3",
   "version": "3.5.2"
  }
 },
 "nbformat": 4,
 "nbformat_minor": 2
}
