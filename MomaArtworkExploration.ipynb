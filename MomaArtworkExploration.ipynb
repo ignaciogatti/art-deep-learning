{
 "cells": [
  {
   "cell_type": "code",
   "execution_count": 1,
   "metadata": {},
   "outputs": [],
   "source": [
    "import pandas as pd\n",
    "import numpy as np"
   ]
  },
  {
   "cell_type": "markdown",
   "metadata": {},
   "source": [
    "## Load Dataset"
   ]
  },
  {
   "cell_type": "code",
   "execution_count": 2,
   "metadata": {},
   "outputs": [],
   "source": [
    "df_artworks = pd.read_csv('./collection/Artworks.csv')\n",
    "#Necesary to drop repited columns\n",
    "df_artists = pd.read_csv('./collection/Artists.csv')"
   ]
  },
  {
   "cell_type": "markdown",
   "metadata": {},
   "source": [
    "### Explore Arttwork dataset"
   ]
  },
  {
   "cell_type": "code",
   "execution_count": 3,
   "metadata": {},
   "outputs": [],
   "source": [
    "columns = list(filter( lambda x : x not in list(df_artists.columns), list(df_artworks.columns)))\n",
    "df_artworks = df_artworks[columns]"
   ]
  },
  {
   "cell_type": "code",
   "execution_count": 4,
   "metadata": {},
   "outputs": [
    {
     "data": {
      "text/html": [
       "<div>\n",
       "<style scoped>\n",
       "    .dataframe tbody tr th:only-of-type {\n",
       "        vertical-align: middle;\n",
       "    }\n",
       "\n",
       "    .dataframe tbody tr th {\n",
       "        vertical-align: top;\n",
       "    }\n",
       "\n",
       "    .dataframe thead th {\n",
       "        text-align: right;\n",
       "    }\n",
       "</style>\n",
       "<table border=\"1\" class=\"dataframe\">\n",
       "  <thead>\n",
       "    <tr style=\"text-align: right;\">\n",
       "      <th></th>\n",
       "      <th>Title</th>\n",
       "      <th>Artist</th>\n",
       "      <th>Date</th>\n",
       "      <th>Medium</th>\n",
       "      <th>Dimensions</th>\n",
       "      <th>CreditLine</th>\n",
       "      <th>AccessionNumber</th>\n",
       "      <th>Classification</th>\n",
       "      <th>Department</th>\n",
       "      <th>DateAcquired</th>\n",
       "      <th>...</th>\n",
       "      <th>ThumbnailURL</th>\n",
       "      <th>Circumference (cm)</th>\n",
       "      <th>Depth (cm)</th>\n",
       "      <th>Diameter (cm)</th>\n",
       "      <th>Height (cm)</th>\n",
       "      <th>Length (cm)</th>\n",
       "      <th>Weight (kg)</th>\n",
       "      <th>Width (cm)</th>\n",
       "      <th>Seat Height (cm)</th>\n",
       "      <th>Duration (sec.)</th>\n",
       "    </tr>\n",
       "  </thead>\n",
       "  <tbody>\n",
       "    <tr>\n",
       "      <th>0</th>\n",
       "      <td>Ferdinandsbrücke Project, Vienna, Austria, Ele...</td>\n",
       "      <td>Otto Wagner</td>\n",
       "      <td>1896</td>\n",
       "      <td>Ink and cut-and-pasted painted pages on paper</td>\n",
       "      <td>19 1/8 x 66 1/2\" (48.6 x 168.9 cm)</td>\n",
       "      <td>Fractional and promised gift of Jo Carole and ...</td>\n",
       "      <td>885.1996</td>\n",
       "      <td>Architecture</td>\n",
       "      <td>Architecture &amp; Design</td>\n",
       "      <td>1996-04-09</td>\n",
       "      <td>...</td>\n",
       "      <td>http://www.moma.org/media/W1siZiIsIjU5NDA1Il0s...</td>\n",
       "      <td>NaN</td>\n",
       "      <td>NaN</td>\n",
       "      <td>NaN</td>\n",
       "      <td>48.6000</td>\n",
       "      <td>NaN</td>\n",
       "      <td>NaN</td>\n",
       "      <td>168.9000</td>\n",
       "      <td>NaN</td>\n",
       "      <td>NaN</td>\n",
       "    </tr>\n",
       "    <tr>\n",
       "      <th>1</th>\n",
       "      <td>City of Music, National Superior Conservatory ...</td>\n",
       "      <td>Christian de Portzamparc</td>\n",
       "      <td>1987</td>\n",
       "      <td>Paint and colored pencil on print</td>\n",
       "      <td>16 x 11 3/4\" (40.6 x 29.8 cm)</td>\n",
       "      <td>Gift of the architect in honor of Lily Auchinc...</td>\n",
       "      <td>1.1995</td>\n",
       "      <td>Architecture</td>\n",
       "      <td>Architecture &amp; Design</td>\n",
       "      <td>1995-01-17</td>\n",
       "      <td>...</td>\n",
       "      <td>http://www.moma.org/media/W1siZiIsIjk3Il0sWyJw...</td>\n",
       "      <td>NaN</td>\n",
       "      <td>NaN</td>\n",
       "      <td>NaN</td>\n",
       "      <td>40.6401</td>\n",
       "      <td>NaN</td>\n",
       "      <td>NaN</td>\n",
       "      <td>29.8451</td>\n",
       "      <td>NaN</td>\n",
       "      <td>NaN</td>\n",
       "    </tr>\n",
       "    <tr>\n",
       "      <th>2</th>\n",
       "      <td>Villa near Vienna Project, Outside Vienna, Aus...</td>\n",
       "      <td>Emil Hoppe</td>\n",
       "      <td>1903</td>\n",
       "      <td>Graphite, pen, color pencil, ink, and gouache ...</td>\n",
       "      <td>13 1/2 x 12 1/2\" (34.3 x 31.8 cm)</td>\n",
       "      <td>Gift of Jo Carole and Ronald S. Lauder</td>\n",
       "      <td>1.1997</td>\n",
       "      <td>Architecture</td>\n",
       "      <td>Architecture &amp; Design</td>\n",
       "      <td>1997-01-15</td>\n",
       "      <td>...</td>\n",
       "      <td>http://www.moma.org/media/W1siZiIsIjk4Il0sWyJw...</td>\n",
       "      <td>NaN</td>\n",
       "      <td>NaN</td>\n",
       "      <td>NaN</td>\n",
       "      <td>34.3000</td>\n",
       "      <td>NaN</td>\n",
       "      <td>NaN</td>\n",
       "      <td>31.8000</td>\n",
       "      <td>NaN</td>\n",
       "      <td>NaN</td>\n",
       "    </tr>\n",
       "    <tr>\n",
       "      <th>3</th>\n",
       "      <td>The Manhattan Transcripts Project, New York, N...</td>\n",
       "      <td>Bernard Tschumi</td>\n",
       "      <td>1980</td>\n",
       "      <td>Photographic reproduction with colored synthet...</td>\n",
       "      <td>20 x 20\" (50.8 x 50.8 cm)</td>\n",
       "      <td>Purchase and partial gift of the architect in ...</td>\n",
       "      <td>2.1995</td>\n",
       "      <td>Architecture</td>\n",
       "      <td>Architecture &amp; Design</td>\n",
       "      <td>1995-01-17</td>\n",
       "      <td>...</td>\n",
       "      <td>http://www.moma.org/media/W1siZiIsIjEyNCJdLFsi...</td>\n",
       "      <td>NaN</td>\n",
       "      <td>NaN</td>\n",
       "      <td>NaN</td>\n",
       "      <td>50.8000</td>\n",
       "      <td>NaN</td>\n",
       "      <td>NaN</td>\n",
       "      <td>50.8000</td>\n",
       "      <td>NaN</td>\n",
       "      <td>NaN</td>\n",
       "    </tr>\n",
       "    <tr>\n",
       "      <th>4</th>\n",
       "      <td>Villa, project, outside Vienna, Austria, Exter...</td>\n",
       "      <td>Emil Hoppe</td>\n",
       "      <td>1903</td>\n",
       "      <td>Graphite, color pencil, ink, and gouache on tr...</td>\n",
       "      <td>15 1/8 x 7 1/2\" (38.4 x 19.1 cm)</td>\n",
       "      <td>Gift of Jo Carole and Ronald S. Lauder</td>\n",
       "      <td>2.1997</td>\n",
       "      <td>Architecture</td>\n",
       "      <td>Architecture &amp; Design</td>\n",
       "      <td>1997-01-15</td>\n",
       "      <td>...</td>\n",
       "      <td>http://www.moma.org/media/W1siZiIsIjEyNiJdLFsi...</td>\n",
       "      <td>NaN</td>\n",
       "      <td>NaN</td>\n",
       "      <td>NaN</td>\n",
       "      <td>38.4000</td>\n",
       "      <td>NaN</td>\n",
       "      <td>NaN</td>\n",
       "      <td>19.1000</td>\n",
       "      <td>NaN</td>\n",
       "      <td>NaN</td>\n",
       "    </tr>\n",
       "  </tbody>\n",
       "</table>\n",
       "<p>5 rows × 23 columns</p>\n",
       "</div>"
      ],
      "text/plain": [
       "                                               Title  \\\n",
       "0  Ferdinandsbrücke Project, Vienna, Austria, Ele...   \n",
       "1  City of Music, National Superior Conservatory ...   \n",
       "2  Villa near Vienna Project, Outside Vienna, Aus...   \n",
       "3  The Manhattan Transcripts Project, New York, N...   \n",
       "4  Villa, project, outside Vienna, Austria, Exter...   \n",
       "\n",
       "                     Artist  Date  \\\n",
       "0               Otto Wagner  1896   \n",
       "1  Christian de Portzamparc  1987   \n",
       "2                Emil Hoppe  1903   \n",
       "3           Bernard Tschumi  1980   \n",
       "4                Emil Hoppe  1903   \n",
       "\n",
       "                                              Medium  \\\n",
       "0      Ink and cut-and-pasted painted pages on paper   \n",
       "1                  Paint and colored pencil on print   \n",
       "2  Graphite, pen, color pencil, ink, and gouache ...   \n",
       "3  Photographic reproduction with colored synthet...   \n",
       "4  Graphite, color pencil, ink, and gouache on tr...   \n",
       "\n",
       "                           Dimensions  \\\n",
       "0  19 1/8 x 66 1/2\" (48.6 x 168.9 cm)   \n",
       "1       16 x 11 3/4\" (40.6 x 29.8 cm)   \n",
       "2   13 1/2 x 12 1/2\" (34.3 x 31.8 cm)   \n",
       "3           20 x 20\" (50.8 x 50.8 cm)   \n",
       "4    15 1/8 x 7 1/2\" (38.4 x 19.1 cm)   \n",
       "\n",
       "                                          CreditLine AccessionNumber  \\\n",
       "0  Fractional and promised gift of Jo Carole and ...        885.1996   \n",
       "1  Gift of the architect in honor of Lily Auchinc...          1.1995   \n",
       "2             Gift of Jo Carole and Ronald S. Lauder          1.1997   \n",
       "3  Purchase and partial gift of the architect in ...          2.1995   \n",
       "4             Gift of Jo Carole and Ronald S. Lauder          2.1997   \n",
       "\n",
       "  Classification             Department DateAcquired  ...  \\\n",
       "0   Architecture  Architecture & Design   1996-04-09  ...   \n",
       "1   Architecture  Architecture & Design   1995-01-17  ...   \n",
       "2   Architecture  Architecture & Design   1997-01-15  ...   \n",
       "3   Architecture  Architecture & Design   1995-01-17  ...   \n",
       "4   Architecture  Architecture & Design   1997-01-15  ...   \n",
       "\n",
       "                                        ThumbnailURL  Circumference (cm)  \\\n",
       "0  http://www.moma.org/media/W1siZiIsIjU5NDA1Il0s...                 NaN   \n",
       "1  http://www.moma.org/media/W1siZiIsIjk3Il0sWyJw...                 NaN   \n",
       "2  http://www.moma.org/media/W1siZiIsIjk4Il0sWyJw...                 NaN   \n",
       "3  http://www.moma.org/media/W1siZiIsIjEyNCJdLFsi...                 NaN   \n",
       "4  http://www.moma.org/media/W1siZiIsIjEyNiJdLFsi...                 NaN   \n",
       "\n",
       "  Depth (cm) Diameter (cm)  Height (cm)  Length (cm)  Weight (kg)  Width (cm)  \\\n",
       "0        NaN           NaN      48.6000          NaN          NaN    168.9000   \n",
       "1        NaN           NaN      40.6401          NaN          NaN     29.8451   \n",
       "2        NaN           NaN      34.3000          NaN          NaN     31.8000   \n",
       "3        NaN           NaN      50.8000          NaN          NaN     50.8000   \n",
       "4        NaN           NaN      38.4000          NaN          NaN     19.1000   \n",
       "\n",
       "   Seat Height (cm)  Duration (sec.)  \n",
       "0               NaN              NaN  \n",
       "1               NaN              NaN  \n",
       "2               NaN              NaN  \n",
       "3               NaN              NaN  \n",
       "4               NaN              NaN  \n",
       "\n",
       "[5 rows x 23 columns]"
      ]
     },
     "execution_count": 4,
     "metadata": {},
     "output_type": "execute_result"
    }
   ],
   "source": [
    "df_artworks.head()"
   ]
  },
  {
   "cell_type": "markdown",
   "metadata": {},
   "source": [
    "**Shape of artworks dataset**"
   ]
  },
  {
   "cell_type": "code",
   "execution_count": 5,
   "metadata": {},
   "outputs": [
    {
     "data": {
      "text/plain": [
       "(138090, 23)"
      ]
     },
     "execution_count": 5,
     "metadata": {},
     "output_type": "execute_result"
    }
   ],
   "source": [
    "df_artworks.shape"
   ]
  },
  {
   "cell_type": "markdown",
   "metadata": {},
   "source": [
    "**Columns with NaN**"
   ]
  },
  {
   "cell_type": "code",
   "execution_count": 6,
   "metadata": {},
   "outputs": [
    {
     "data": {
      "text/plain": [
       "Title                  True\n",
       "Artist                 True\n",
       "Date                   True\n",
       "Medium                 True\n",
       "Dimensions             True\n",
       "CreditLine             True\n",
       "AccessionNumber       False\n",
       "Classification        False\n",
       "Department            False\n",
       "DateAcquired           True\n",
       "Cataloged             False\n",
       "ObjectID              False\n",
       "URL                    True\n",
       "ThumbnailURL           True\n",
       "Circumference (cm)     True\n",
       "Depth (cm)             True\n",
       "Diameter (cm)          True\n",
       "Height (cm)            True\n",
       "Length (cm)            True\n",
       "Weight (kg)            True\n",
       "Width (cm)             True\n",
       "Seat Height (cm)       True\n",
       "Duration (sec.)        True\n",
       "dtype: bool"
      ]
     },
     "execution_count": 6,
     "metadata": {},
     "output_type": "execute_result"
    }
   ],
   "source": [
    "df_artworks.isnull().any()"
   ]
  },
  {
   "cell_type": "markdown",
   "metadata": {},
   "source": [
    "**Date distribution**"
   ]
  },
  {
   "cell_type": "markdown",
   "metadata": {},
   "source": [
    "**Check differents types of date**"
   ]
  },
  {
   "cell_type": "code",
   "execution_count": null,
   "metadata": {},
   "outputs": [],
   "source": [
    "dates = df_artworks['Date'].dropna()\n",
    "#drop Unknown values \n",
    "dates = dates[(dates != 'n.d.') & (dates != 'Unknown')]\n",
    "dates.shape"
   ]
  },
  {
   "cell_type": "code",
   "execution_count": null,
   "metadata": {},
   "outputs": [],
   "source": [
    "#Fast way to obtain dates (could be extracting wrong dates)\n",
    "data_creation = dates.str.extract(r'(\\d{4})')\n",
    "data_creation = data_creation.dropna()\n",
    "data_creation = pd.to_numeric(data_creation[0])\n",
    "data_creation = data_creation.rename('Date')\n",
    "data_creation.head()"
   ]
  },
  {
   "cell_type": "code",
   "execution_count": null,
   "metadata": {},
   "outputs": [],
   "source": [
    "data_creation.hist(bins=100)"
   ]
  },
  {
   "cell_type": "code",
   "execution_count": null,
   "metadata": {},
   "outputs": [],
   "source": []
  },
  {
   "cell_type": "code",
   "execution_count": null,
   "metadata": {},
   "outputs": [],
   "source": [
    "# e.g 1987\n",
    "date_dddd = dates[dates.str.match(r'\\d{4}$')]\n",
    "print(date_dddd.shape)\n",
    "date_dddd.head()"
   ]
  },
  {
   "cell_type": "code",
   "execution_count": null,
   "metadata": {},
   "outputs": [],
   "source": [
    "dates = dates.drop(date_dddd.index)\n",
    "dates.head()"
   ]
  },
  {
   "cell_type": "code",
   "execution_count": null,
   "metadata": {},
   "outputs": [],
   "source": [
    "#e.g 1983-...\n",
    "date_period = dates[dates.str.match(r'\\d{4}[- –].+')]\n",
    "print(date_period.shape)\n",
    "date_period.head()"
   ]
  },
  {
   "cell_type": "code",
   "execution_count": null,
   "metadata": {},
   "outputs": [],
   "source": [
    "dates = dates.drop(date_period.index)\n",
    "dates.head()"
   ]
  },
  {
   "cell_type": "code",
   "execution_count": null,
   "metadata": {},
   "outputs": [],
   "source": [
    "#e.g. c. 1934...\n",
    "date_c = dates[dates.str.match(r'^c\\. \\d{4}.*')]\n",
    "print(date_c.shape)\n",
    "date_c.head()"
   ]
  },
  {
   "cell_type": "code",
   "execution_count": null,
   "metadata": {},
   "outputs": [],
   "source": [
    "dates = dates.drop(date_c.index)\n",
    "dates.head()"
   ]
  },
  {
   "cell_type": "code",
   "execution_count": null,
   "metadata": {},
   "outputs": [],
   "source": [
    "# e.g. 1968.\n",
    "date_dddd_point = dates[dates.str.match(r'^\\d{4}\\.$')]\n",
    "print(date_dddd_point.shape)\n",
    "date_dddd_point.head()"
   ]
  },
  {
   "cell_type": "code",
   "execution_count": null,
   "metadata": {},
   "outputs": [],
   "source": []
  },
  {
   "cell_type": "markdown",
   "metadata": {},
   "source": [
    "**Classification distribution**"
   ]
  },
  {
   "cell_type": "code",
   "execution_count": null,
   "metadata": {},
   "outputs": [],
   "source": [
    "df_artworks['Classification'].value_counts().plot.bar()"
   ]
  },
  {
   "cell_type": "markdown",
   "metadata": {},
   "source": [
    "**Cataloged distribution**"
   ]
  },
  {
   "cell_type": "code",
   "execution_count": null,
   "metadata": {},
   "outputs": [],
   "source": [
    "df_artworks['Cataloged'].value_counts()"
   ]
  },
  {
   "cell_type": "markdown",
   "metadata": {},
   "source": [
    "### Artwork image extraction"
   ]
  },
  {
   "cell_type": "code",
   "execution_count": 7,
   "metadata": {},
   "outputs": [],
   "source": [
    "from bs4 import BeautifulSoup\n",
    "import urllib\n",
    "import os\n",
    "import zipfile"
   ]
  },
  {
   "cell_type": "code",
   "execution_count": 8,
   "metadata": {},
   "outputs": [],
   "source": [
    "base_url = 'https://www.moma.org/'\n",
    "base_image_path = os.path.join(os.getcwd(), 'collection/images')"
   ]
  },
  {
   "cell_type": "markdown",
   "metadata": {},
   "source": [
    "**Drop artworks without link**"
   ]
  },
  {
   "cell_type": "code",
   "execution_count": 9,
   "metadata": {},
   "outputs": [
    {
     "data": {
      "text/html": [
       "<div>\n",
       "<style scoped>\n",
       "    .dataframe tbody tr th:only-of-type {\n",
       "        vertical-align: middle;\n",
       "    }\n",
       "\n",
       "    .dataframe tbody tr th {\n",
       "        vertical-align: top;\n",
       "    }\n",
       "\n",
       "    .dataframe thead th {\n",
       "        text-align: right;\n",
       "    }\n",
       "</style>\n",
       "<table border=\"1\" class=\"dataframe\">\n",
       "  <thead>\n",
       "    <tr style=\"text-align: right;\">\n",
       "      <th></th>\n",
       "      <th>Title</th>\n",
       "      <th>Artist</th>\n",
       "      <th>Date</th>\n",
       "      <th>Medium</th>\n",
       "      <th>Dimensions</th>\n",
       "      <th>CreditLine</th>\n",
       "      <th>AccessionNumber</th>\n",
       "      <th>Classification</th>\n",
       "      <th>Department</th>\n",
       "      <th>DateAcquired</th>\n",
       "      <th>...</th>\n",
       "      <th>ThumbnailURL</th>\n",
       "      <th>Circumference (cm)</th>\n",
       "      <th>Depth (cm)</th>\n",
       "      <th>Diameter (cm)</th>\n",
       "      <th>Height (cm)</th>\n",
       "      <th>Length (cm)</th>\n",
       "      <th>Weight (kg)</th>\n",
       "      <th>Width (cm)</th>\n",
       "      <th>Seat Height (cm)</th>\n",
       "      <th>Duration (sec.)</th>\n",
       "    </tr>\n",
       "  </thead>\n",
       "  <tbody>\n",
       "    <tr>\n",
       "      <th>0</th>\n",
       "      <td>Ferdinandsbrücke Project, Vienna, Austria, Ele...</td>\n",
       "      <td>Otto Wagner</td>\n",
       "      <td>1896</td>\n",
       "      <td>Ink and cut-and-pasted painted pages on paper</td>\n",
       "      <td>19 1/8 x 66 1/2\" (48.6 x 168.9 cm)</td>\n",
       "      <td>Fractional and promised gift of Jo Carole and ...</td>\n",
       "      <td>885.1996</td>\n",
       "      <td>Architecture</td>\n",
       "      <td>Architecture &amp; Design</td>\n",
       "      <td>1996-04-09</td>\n",
       "      <td>...</td>\n",
       "      <td>http://www.moma.org/media/W1siZiIsIjU5NDA1Il0s...</td>\n",
       "      <td>NaN</td>\n",
       "      <td>NaN</td>\n",
       "      <td>NaN</td>\n",
       "      <td>48.6000</td>\n",
       "      <td>NaN</td>\n",
       "      <td>NaN</td>\n",
       "      <td>168.9000</td>\n",
       "      <td>NaN</td>\n",
       "      <td>NaN</td>\n",
       "    </tr>\n",
       "    <tr>\n",
       "      <th>1</th>\n",
       "      <td>City of Music, National Superior Conservatory ...</td>\n",
       "      <td>Christian de Portzamparc</td>\n",
       "      <td>1987</td>\n",
       "      <td>Paint and colored pencil on print</td>\n",
       "      <td>16 x 11 3/4\" (40.6 x 29.8 cm)</td>\n",
       "      <td>Gift of the architect in honor of Lily Auchinc...</td>\n",
       "      <td>1.1995</td>\n",
       "      <td>Architecture</td>\n",
       "      <td>Architecture &amp; Design</td>\n",
       "      <td>1995-01-17</td>\n",
       "      <td>...</td>\n",
       "      <td>http://www.moma.org/media/W1siZiIsIjk3Il0sWyJw...</td>\n",
       "      <td>NaN</td>\n",
       "      <td>NaN</td>\n",
       "      <td>NaN</td>\n",
       "      <td>40.6401</td>\n",
       "      <td>NaN</td>\n",
       "      <td>NaN</td>\n",
       "      <td>29.8451</td>\n",
       "      <td>NaN</td>\n",
       "      <td>NaN</td>\n",
       "    </tr>\n",
       "    <tr>\n",
       "      <th>2</th>\n",
       "      <td>Villa near Vienna Project, Outside Vienna, Aus...</td>\n",
       "      <td>Emil Hoppe</td>\n",
       "      <td>1903</td>\n",
       "      <td>Graphite, pen, color pencil, ink, and gouache ...</td>\n",
       "      <td>13 1/2 x 12 1/2\" (34.3 x 31.8 cm)</td>\n",
       "      <td>Gift of Jo Carole and Ronald S. Lauder</td>\n",
       "      <td>1.1997</td>\n",
       "      <td>Architecture</td>\n",
       "      <td>Architecture &amp; Design</td>\n",
       "      <td>1997-01-15</td>\n",
       "      <td>...</td>\n",
       "      <td>http://www.moma.org/media/W1siZiIsIjk4Il0sWyJw...</td>\n",
       "      <td>NaN</td>\n",
       "      <td>NaN</td>\n",
       "      <td>NaN</td>\n",
       "      <td>34.3000</td>\n",
       "      <td>NaN</td>\n",
       "      <td>NaN</td>\n",
       "      <td>31.8000</td>\n",
       "      <td>NaN</td>\n",
       "      <td>NaN</td>\n",
       "    </tr>\n",
       "    <tr>\n",
       "      <th>3</th>\n",
       "      <td>The Manhattan Transcripts Project, New York, N...</td>\n",
       "      <td>Bernard Tschumi</td>\n",
       "      <td>1980</td>\n",
       "      <td>Photographic reproduction with colored synthet...</td>\n",
       "      <td>20 x 20\" (50.8 x 50.8 cm)</td>\n",
       "      <td>Purchase and partial gift of the architect in ...</td>\n",
       "      <td>2.1995</td>\n",
       "      <td>Architecture</td>\n",
       "      <td>Architecture &amp; Design</td>\n",
       "      <td>1995-01-17</td>\n",
       "      <td>...</td>\n",
       "      <td>http://www.moma.org/media/W1siZiIsIjEyNCJdLFsi...</td>\n",
       "      <td>NaN</td>\n",
       "      <td>NaN</td>\n",
       "      <td>NaN</td>\n",
       "      <td>50.8000</td>\n",
       "      <td>NaN</td>\n",
       "      <td>NaN</td>\n",
       "      <td>50.8000</td>\n",
       "      <td>NaN</td>\n",
       "      <td>NaN</td>\n",
       "    </tr>\n",
       "    <tr>\n",
       "      <th>4</th>\n",
       "      <td>Villa, project, outside Vienna, Austria, Exter...</td>\n",
       "      <td>Emil Hoppe</td>\n",
       "      <td>1903</td>\n",
       "      <td>Graphite, color pencil, ink, and gouache on tr...</td>\n",
       "      <td>15 1/8 x 7 1/2\" (38.4 x 19.1 cm)</td>\n",
       "      <td>Gift of Jo Carole and Ronald S. Lauder</td>\n",
       "      <td>2.1997</td>\n",
       "      <td>Architecture</td>\n",
       "      <td>Architecture &amp; Design</td>\n",
       "      <td>1997-01-15</td>\n",
       "      <td>...</td>\n",
       "      <td>http://www.moma.org/media/W1siZiIsIjEyNiJdLFsi...</td>\n",
       "      <td>NaN</td>\n",
       "      <td>NaN</td>\n",
       "      <td>NaN</td>\n",
       "      <td>38.4000</td>\n",
       "      <td>NaN</td>\n",
       "      <td>NaN</td>\n",
       "      <td>19.1000</td>\n",
       "      <td>NaN</td>\n",
       "      <td>NaN</td>\n",
       "    </tr>\n",
       "  </tbody>\n",
       "</table>\n",
       "<p>5 rows × 23 columns</p>\n",
       "</div>"
      ],
      "text/plain": [
       "                                               Title  \\\n",
       "0  Ferdinandsbrücke Project, Vienna, Austria, Ele...   \n",
       "1  City of Music, National Superior Conservatory ...   \n",
       "2  Villa near Vienna Project, Outside Vienna, Aus...   \n",
       "3  The Manhattan Transcripts Project, New York, N...   \n",
       "4  Villa, project, outside Vienna, Austria, Exter...   \n",
       "\n",
       "                     Artist  Date  \\\n",
       "0               Otto Wagner  1896   \n",
       "1  Christian de Portzamparc  1987   \n",
       "2                Emil Hoppe  1903   \n",
       "3           Bernard Tschumi  1980   \n",
       "4                Emil Hoppe  1903   \n",
       "\n",
       "                                              Medium  \\\n",
       "0      Ink and cut-and-pasted painted pages on paper   \n",
       "1                  Paint and colored pencil on print   \n",
       "2  Graphite, pen, color pencil, ink, and gouache ...   \n",
       "3  Photographic reproduction with colored synthet...   \n",
       "4  Graphite, color pencil, ink, and gouache on tr...   \n",
       "\n",
       "                           Dimensions  \\\n",
       "0  19 1/8 x 66 1/2\" (48.6 x 168.9 cm)   \n",
       "1       16 x 11 3/4\" (40.6 x 29.8 cm)   \n",
       "2   13 1/2 x 12 1/2\" (34.3 x 31.8 cm)   \n",
       "3           20 x 20\" (50.8 x 50.8 cm)   \n",
       "4    15 1/8 x 7 1/2\" (38.4 x 19.1 cm)   \n",
       "\n",
       "                                          CreditLine AccessionNumber  \\\n",
       "0  Fractional and promised gift of Jo Carole and ...        885.1996   \n",
       "1  Gift of the architect in honor of Lily Auchinc...          1.1995   \n",
       "2             Gift of Jo Carole and Ronald S. Lauder          1.1997   \n",
       "3  Purchase and partial gift of the architect in ...          2.1995   \n",
       "4             Gift of Jo Carole and Ronald S. Lauder          2.1997   \n",
       "\n",
       "  Classification             Department DateAcquired  ...  \\\n",
       "0   Architecture  Architecture & Design   1996-04-09  ...   \n",
       "1   Architecture  Architecture & Design   1995-01-17  ...   \n",
       "2   Architecture  Architecture & Design   1997-01-15  ...   \n",
       "3   Architecture  Architecture & Design   1995-01-17  ...   \n",
       "4   Architecture  Architecture & Design   1997-01-15  ...   \n",
       "\n",
       "                                        ThumbnailURL  Circumference (cm)  \\\n",
       "0  http://www.moma.org/media/W1siZiIsIjU5NDA1Il0s...                 NaN   \n",
       "1  http://www.moma.org/media/W1siZiIsIjk3Il0sWyJw...                 NaN   \n",
       "2  http://www.moma.org/media/W1siZiIsIjk4Il0sWyJw...                 NaN   \n",
       "3  http://www.moma.org/media/W1siZiIsIjEyNCJdLFsi...                 NaN   \n",
       "4  http://www.moma.org/media/W1siZiIsIjEyNiJdLFsi...                 NaN   \n",
       "\n",
       "  Depth (cm) Diameter (cm)  Height (cm)  Length (cm)  Weight (kg)  Width (cm)  \\\n",
       "0        NaN           NaN      48.6000          NaN          NaN    168.9000   \n",
       "1        NaN           NaN      40.6401          NaN          NaN     29.8451   \n",
       "2        NaN           NaN      34.3000          NaN          NaN     31.8000   \n",
       "3        NaN           NaN      50.8000          NaN          NaN     50.8000   \n",
       "4        NaN           NaN      38.4000          NaN          NaN     19.1000   \n",
       "\n",
       "   Seat Height (cm)  Duration (sec.)  \n",
       "0               NaN              NaN  \n",
       "1               NaN              NaN  \n",
       "2               NaN              NaN  \n",
       "3               NaN              NaN  \n",
       "4               NaN              NaN  \n",
       "\n",
       "[5 rows x 23 columns]"
      ]
     },
     "execution_count": 9,
     "metadata": {},
     "output_type": "execute_result"
    }
   ],
   "source": [
    "df_artworks_download = df_artworks.dropna(subset=['URL'])\n",
    "df_artworks_download.head()"
   ]
  },
  {
   "cell_type": "code",
   "execution_count": 10,
   "metadata": {},
   "outputs": [
    {
     "data": {
      "text/plain": [
       "(79542, 23)"
      ]
     },
     "execution_count": 10,
     "metadata": {},
     "output_type": "execute_result"
    }
   ],
   "source": [
    "df_artworks_download.shape"
   ]
  },
  {
   "cell_type": "markdown",
   "metadata": {},
   "source": [
    "**Download artwork's images**"
   ]
  },
  {
   "cell_type": "code",
   "execution_count": 11,
   "metadata": {},
   "outputs": [
    {
     "name": "stderr",
     "output_type": "stream",
     "text": [
      "/usr/local/lib/python3.5/dist-packages/ipykernel_launcher.py:3: UserWarning: Duplicate name: 'root/notebooks/collection/images/'\n",
      "  This is separate from the ipykernel package so we can avoid doing imports until\n"
     ]
    }
   ],
   "source": [
    "# w to write a zipfile || a to append to an existing file\n",
    "zf = zipfile.ZipFile(os.path.join(base_image_path, 'image.zip'), 'a')\n",
    "zf.write(base_image_path)"
   ]
  },
  {
   "cell_type": "code",
   "execution_count": 12,
   "metadata": {},
   "outputs": [],
   "source": [
    "def download_image(x):\n",
    "    global zf\n",
    "    try:\n",
    "        html = urllib.request.urlopen(x['URL'])\n",
    "        soup = BeautifulSoup(html)\n",
    "        imgs = soup.findAll('img')\n",
    "        image_url = base_url + imgs[0].get('src')\n",
    "        path = os.path.join(base_image_path, str(x.name)+'.jpg')\n",
    "        urllib.request.urlretrieve(image_url, path)\n",
    "        zf.write(path)\n",
    "        os.remove(path)\n",
    "        return path\n",
    "    except:\n",
    "        return 'error at index ' + str(x.name)"
   ]
  },
  {
   "cell_type": "code",
   "execution_count": null,
   "metadata": {},
   "outputs": [],
   "source": [
    "df_artworks_download['Image path'] = df_artworks_download.loc[30001:40000].apply(download_image, axis=1)"
   ]
  },
  {
   "cell_type": "code",
   "execution_count": null,
   "metadata": {},
   "outputs": [],
   "source": [
    "zf.close()"
   ]
  },
  {
   "cell_type": "code",
   "execution_count": null,
   "metadata": {},
   "outputs": [],
   "source": []
  },
  {
   "cell_type": "code",
   "execution_count": null,
   "metadata": {},
   "outputs": [],
   "source": []
  },
  {
   "cell_type": "code",
   "execution_count": null,
   "metadata": {},
   "outputs": [],
   "source": [
    "df_artworks['URL'][0]"
   ]
  },
  {
   "cell_type": "code",
   "execution_count": null,
   "metadata": {},
   "outputs": [],
   "source": [
    "html = urllib.request.urlopen(df_artworks['URL'][0])\n",
    "soup = BeautifulSoup(html)"
   ]
  },
  {
   "cell_type": "code",
   "execution_count": null,
   "metadata": {},
   "outputs": [],
   "source": [
    "artwork_name = soup.findAll('span', {'class': 'work__short-caption__text--primary balance-text'})\n",
    "artwork_name[0].text"
   ]
  },
  {
   "cell_type": "code",
   "execution_count": null,
   "metadata": {},
   "outputs": [],
   "source": [
    "imgs = soup.findAll('img')"
   ]
  },
  {
   "cell_type": "code",
   "execution_count": null,
   "metadata": {},
   "outputs": [],
   "source": [
    "image_url = base_url + imgs[0].get('src')"
   ]
  },
  {
   "cell_type": "code",
   "execution_count": null,
   "metadata": {},
   "outputs": [],
   "source": [
    "urllib.request.urlretrieve(image_url, os.path.join(base_image_path, '0.jpg') )"
   ]
  },
  {
   "cell_type": "code",
   "execution_count": null,
   "metadata": {},
   "outputs": [],
   "source": [
    "urllib.urlretrieve('/media/W1siZiIsIjU5NDA1Il0sWyJwIiwiY29udmVydCIsIi1yZXNpemUgMjAwMHgyMDAwXHUwMDNlIl1d.jpg?sha=7a282c9a6f26636d', os.path.basename('example'))"
   ]
  }
 ],
 "metadata": {
  "kernelspec": {
   "display_name": "Python 3",
   "language": "python",
   "name": "python3"
  },
  "language_info": {
   "codemirror_mode": {
    "name": "ipython",
    "version": 3
   },
   "file_extension": ".py",
   "mimetype": "text/x-python",
   "name": "python",
   "nbconvert_exporter": "python",
   "pygments_lexer": "ipython3",
   "version": "3.5.2"
  }
 },
 "nbformat": 4,
 "nbformat_minor": 2
}
