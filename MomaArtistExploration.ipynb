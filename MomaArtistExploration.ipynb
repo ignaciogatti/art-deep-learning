{
 "cells": [
  {
   "cell_type": "code",
   "execution_count": 1,
   "metadata": {},
   "outputs": [],
   "source": [
    "import pandas as pd\n",
    "import numpy as np"
   ]
  },
  {
   "cell_type": "markdown",
   "metadata": {},
   "source": [
    "## Load dataset"
   ]
  },
  {
   "cell_type": "code",
   "execution_count": 2,
   "metadata": {},
   "outputs": [],
   "source": [
    "df_artists = pd.read_csv('./collection/Artists.csv')"
   ]
  },
  {
   "cell_type": "markdown",
   "metadata": {},
   "source": [
    "### Explore Artist dataset"
   ]
  },
  {
   "cell_type": "code",
   "execution_count": 3,
   "metadata": {
    "scrolled": true
   },
   "outputs": [
    {
     "data": {
      "text/html": [
       "<div>\n",
       "<style scoped>\n",
       "    .dataframe tbody tr th:only-of-type {\n",
       "        vertical-align: middle;\n",
       "    }\n",
       "\n",
       "    .dataframe tbody tr th {\n",
       "        vertical-align: top;\n",
       "    }\n",
       "\n",
       "    .dataframe thead th {\n",
       "        text-align: right;\n",
       "    }\n",
       "</style>\n",
       "<table border=\"1\" class=\"dataframe\">\n",
       "  <thead>\n",
       "    <tr style=\"text-align: right;\">\n",
       "      <th></th>\n",
       "      <th>ConstituentID</th>\n",
       "      <th>DisplayName</th>\n",
       "      <th>ArtistBio</th>\n",
       "      <th>Nationality</th>\n",
       "      <th>Gender</th>\n",
       "      <th>BeginDate</th>\n",
       "      <th>EndDate</th>\n",
       "      <th>Wiki QID</th>\n",
       "      <th>ULAN</th>\n",
       "    </tr>\n",
       "  </thead>\n",
       "  <tbody>\n",
       "    <tr>\n",
       "      <th>0</th>\n",
       "      <td>1</td>\n",
       "      <td>Robert Arneson</td>\n",
       "      <td>American, 1930–1992</td>\n",
       "      <td>American</td>\n",
       "      <td>Male</td>\n",
       "      <td>1930</td>\n",
       "      <td>1992</td>\n",
       "      <td>NaN</td>\n",
       "      <td>NaN</td>\n",
       "    </tr>\n",
       "    <tr>\n",
       "      <th>1</th>\n",
       "      <td>2</td>\n",
       "      <td>Doroteo Arnaiz</td>\n",
       "      <td>Spanish, born 1936</td>\n",
       "      <td>Spanish</td>\n",
       "      <td>Male</td>\n",
       "      <td>1936</td>\n",
       "      <td>0</td>\n",
       "      <td>NaN</td>\n",
       "      <td>NaN</td>\n",
       "    </tr>\n",
       "    <tr>\n",
       "      <th>2</th>\n",
       "      <td>3</td>\n",
       "      <td>Bill Arnold</td>\n",
       "      <td>American, born 1941</td>\n",
       "      <td>American</td>\n",
       "      <td>Male</td>\n",
       "      <td>1941</td>\n",
       "      <td>0</td>\n",
       "      <td>NaN</td>\n",
       "      <td>NaN</td>\n",
       "    </tr>\n",
       "    <tr>\n",
       "      <th>3</th>\n",
       "      <td>4</td>\n",
       "      <td>Charles Arnoldi</td>\n",
       "      <td>American, born 1946</td>\n",
       "      <td>American</td>\n",
       "      <td>Male</td>\n",
       "      <td>1946</td>\n",
       "      <td>0</td>\n",
       "      <td>Q1063584</td>\n",
       "      <td>500027998.0</td>\n",
       "    </tr>\n",
       "    <tr>\n",
       "      <th>4</th>\n",
       "      <td>5</td>\n",
       "      <td>Per Arnoldi</td>\n",
       "      <td>Danish, born 1941</td>\n",
       "      <td>Danish</td>\n",
       "      <td>Male</td>\n",
       "      <td>1941</td>\n",
       "      <td>0</td>\n",
       "      <td>NaN</td>\n",
       "      <td>NaN</td>\n",
       "    </tr>\n",
       "  </tbody>\n",
       "</table>\n",
       "</div>"
      ],
      "text/plain": [
       "   ConstituentID      DisplayName            ArtistBio Nationality Gender  \\\n",
       "0              1   Robert Arneson  American, 1930–1992    American   Male   \n",
       "1              2   Doroteo Arnaiz   Spanish, born 1936     Spanish   Male   \n",
       "2              3      Bill Arnold  American, born 1941    American   Male   \n",
       "3              4  Charles Arnoldi  American, born 1946    American   Male   \n",
       "4              5      Per Arnoldi    Danish, born 1941      Danish   Male   \n",
       "\n",
       "   BeginDate  EndDate  Wiki QID         ULAN  \n",
       "0       1930     1992       NaN          NaN  \n",
       "1       1936        0       NaN          NaN  \n",
       "2       1941        0       NaN          NaN  \n",
       "3       1946        0  Q1063584  500027998.0  \n",
       "4       1941        0       NaN          NaN  "
      ]
     },
     "execution_count": 3,
     "metadata": {},
     "output_type": "execute_result"
    }
   ],
   "source": [
    "df_artists.head()"
   ]
  },
  {
   "cell_type": "markdown",
   "metadata": {},
   "source": [
    "**Shape and columns name of the dataset**"
   ]
  },
  {
   "cell_type": "code",
   "execution_count": 4,
   "metadata": {},
   "outputs": [
    {
     "data": {
      "text/plain": [
       "(16029, 9)"
      ]
     },
     "execution_count": 4,
     "metadata": {},
     "output_type": "execute_result"
    }
   ],
   "source": [
    "df_artists.shape"
   ]
  },
  {
   "cell_type": "markdown",
   "metadata": {},
   "source": [
    "**Columns with NaN**"
   ]
  },
  {
   "cell_type": "code",
   "execution_count": 5,
   "metadata": {},
   "outputs": [
    {
     "data": {
      "text/plain": [
       "ConstituentID    False\n",
       "DisplayName      False\n",
       "ArtistBio         True\n",
       "Nationality       True\n",
       "Gender            True\n",
       "BeginDate        False\n",
       "EndDate          False\n",
       "Wiki QID          True\n",
       "ULAN              True\n",
       "dtype: bool"
      ]
     },
     "execution_count": 5,
     "metadata": {},
     "output_type": "execute_result"
    }
   ],
   "source": [
    "df_artists.isnull().any()"
   ]
  },
  {
   "cell_type": "markdown",
   "metadata": {},
   "source": [
    "**Genre distribution**"
   ]
  },
  {
   "cell_type": "code",
   "execution_count": null,
   "metadata": {},
   "outputs": [],
   "source": [
    "df_artists['Gender'] = df_artists['Gender'].str.replace('male', 'Male')\n",
    "df_artists['Gender'].dropna().value_counts().plot.bar()"
   ]
  },
  {
   "cell_type": "markdown",
   "metadata": {},
   "source": [
    "**Nationality distribution**"
   ]
  },
  {
   "cell_type": "code",
   "execution_count": null,
   "metadata": {},
   "outputs": [],
   "source": [
    "#Group nationalities that have less than n \n",
    "n= 100\n",
    "\n",
    "nationalities = df_artists['Nationality'].value_counts()\n",
    "nationalities_lessthan = nationalities[nationalities < n]\n",
    "nationalities_morethan = nationalities[nationalities >= n]\n",
    "nationalities_lessthan.head()"
   ]
  },
  {
   "cell_type": "code",
   "execution_count": null,
   "metadata": {},
   "outputs": [],
   "source": [
    "#nationalities_morethan['Others'] = nationalities_lessthan.sum()\n",
    "nationalities_morethan.sort_values().plot.bar()"
   ]
  },
  {
   "cell_type": "code",
   "execution_count": null,
   "metadata": {},
   "outputs": [],
   "source": [
    "nationalities_morethan.hist(bins=100)"
   ]
  },
  {
   "cell_type": "markdown",
   "metadata": {},
   "source": [
    "**Begin day distribution**"
   ]
  },
  {
   "cell_type": "code",
   "execution_count": null,
   "metadata": {},
   "outputs": [],
   "source": [
    "#There outliers with begin date equals to 0\n",
    "\n",
    "df_artists['BeginDate'][df_artists['BeginDate'] > 0].hist(bins=50)"
   ]
  },
  {
   "cell_type": "markdown",
   "metadata": {},
   "source": [
    "**Artist wikidata QID**"
   ]
  },
  {
   "cell_type": "code",
   "execution_count": 8,
   "metadata": {},
   "outputs": [
    {
     "data": {
      "text/plain": [
       "<matplotlib.axes._subplots.AxesSubplot at 0x7f1b0d65d8d0>"
      ]
     },
     "execution_count": 8,
     "metadata": {},
     "output_type": "execute_result"
    },
    {
     "data": {
      "image/png": "[encoded data removed]",
      "text/plain": [
       "<matplotlib.figure.Figure at 0x7f1ae2b74fd0>"
      ]
     },
     "metadata": {},
     "output_type": "display_data"
    }
   ],
   "source": [
    "df_artists['Wiki QID'].isnull().value_counts().rename({True:'No Wiki QID', False:'Wiki QID'}).plot.bar()"
   ]
  },
  {
   "cell_type": "code",
   "execution_count": 7,
   "metadata": {},
   "outputs": [
    {
     "data": {
      "text/html": [
       "<div>\n",
       "<style scoped>\n",
       "    .dataframe tbody tr th:only-of-type {\n",
       "        vertical-align: middle;\n",
       "    }\n",
       "\n",
       "    .dataframe tbody tr th {\n",
       "        vertical-align: top;\n",
       "    }\n",
       "\n",
       "    .dataframe thead th {\n",
       "        text-align: right;\n",
       "    }\n",
       "</style>\n",
       "<table border=\"1\" class=\"dataframe\">\n",
       "  <thead>\n",
       "    <tr style=\"text-align: right;\">\n",
       "      <th></th>\n",
       "      <th>ConstituentID</th>\n",
       "      <th>DisplayName</th>\n",
       "      <th>ArtistBio</th>\n",
       "      <th>Nationality</th>\n",
       "      <th>Gender</th>\n",
       "      <th>BeginDate</th>\n",
       "      <th>EndDate</th>\n",
       "      <th>Wiki QID</th>\n",
       "      <th>ULAN</th>\n",
       "    </tr>\n",
       "  </thead>\n",
       "  <tbody>\n",
       "    <tr>\n",
       "      <th>3</th>\n",
       "      <td>4</td>\n",
       "      <td>Charles Arnoldi</td>\n",
       "      <td>American, born 1946</td>\n",
       "      <td>American</td>\n",
       "      <td>Male</td>\n",
       "      <td>1946</td>\n",
       "      <td>0</td>\n",
       "      <td>Q1063584</td>\n",
       "      <td>500027998.0</td>\n",
       "    </tr>\n",
       "    <tr>\n",
       "      <th>7</th>\n",
       "      <td>9</td>\n",
       "      <td>David Aronson</td>\n",
       "      <td>American, born Lithuania 1923</td>\n",
       "      <td>American</td>\n",
       "      <td>Male</td>\n",
       "      <td>1923</td>\n",
       "      <td>0</td>\n",
       "      <td>Q5230870</td>\n",
       "      <td>500003363.0</td>\n",
       "    </tr>\n",
       "    <tr>\n",
       "      <th>8</th>\n",
       "      <td>10</td>\n",
       "      <td>Irene Aronson</td>\n",
       "      <td>American, born Germany 1918</td>\n",
       "      <td>American</td>\n",
       "      <td>Female</td>\n",
       "      <td>1918</td>\n",
       "      <td>0</td>\n",
       "      <td>Q19748568</td>\n",
       "      <td>500042413.0</td>\n",
       "    </tr>\n",
       "    <tr>\n",
       "      <th>9</th>\n",
       "      <td>11</td>\n",
       "      <td>Jean (Hans) Arp</td>\n",
       "      <td>French, born Germany (Alsace). 1886–1966</td>\n",
       "      <td>French</td>\n",
       "      <td>Male</td>\n",
       "      <td>1886</td>\n",
       "      <td>1966</td>\n",
       "      <td>Q153739</td>\n",
       "      <td>500031000.0</td>\n",
       "    </tr>\n",
       "    <tr>\n",
       "      <th>15</th>\n",
       "      <td>19</td>\n",
       "      <td>Richard Artschwager</td>\n",
       "      <td>American, 1923–2013</td>\n",
       "      <td>American</td>\n",
       "      <td>Male</td>\n",
       "      <td>1923</td>\n",
       "      <td>2013</td>\n",
       "      <td>Q568262</td>\n",
       "      <td>500114981.0</td>\n",
       "    </tr>\n",
       "  </tbody>\n",
       "</table>\n",
       "</div>"
      ],
      "text/plain": [
       "    ConstituentID          DisplayName  \\\n",
       "3               4      Charles Arnoldi   \n",
       "7               9        David Aronson   \n",
       "8              10        Irene Aronson   \n",
       "9              11      Jean (Hans) Arp   \n",
       "15             19  Richard Artschwager   \n",
       "\n",
       "                                   ArtistBio Nationality  Gender  BeginDate  \\\n",
       "3                        American, born 1946    American    Male       1946   \n",
       "7              American, born Lithuania 1923    American    Male       1923   \n",
       "8                American, born Germany 1918    American  Female       1918   \n",
       "9   French, born Germany (Alsace). 1886–1966      French    Male       1886   \n",
       "15                       American, 1923–2013    American    Male       1923   \n",
       "\n",
       "    EndDate   Wiki QID         ULAN  \n",
       "3         0   Q1063584  500027998.0  \n",
       "7         0   Q5230870  500003363.0  \n",
       "8         0  Q19748568  500042413.0  \n",
       "9      1966    Q153739  500031000.0  \n",
       "15     2013    Q568262  500114981.0  "
      ]
     },
     "execution_count": 7,
     "metadata": {},
     "output_type": "execute_result"
    }
   ],
   "source": [
    "df_artist_wiki = df_artists.dropna(subset=['Wiki QID'])\n",
    "df_artist_wiki.head()"
   ]
  },
  {
   "cell_type": "code",
   "execution_count": 9,
   "metadata": {},
   "outputs": [
    {
     "data": {
      "text/plain": [
       "(3288, 9)"
      ]
     },
     "execution_count": 9,
     "metadata": {},
     "output_type": "execute_result"
    }
   ],
   "source": [
    "df_artist_wiki.shape"
   ]
  },
  {
   "cell_type": "code",
   "execution_count": 10,
   "metadata": {},
   "outputs": [],
   "source": [
    "import pywikibot"
   ]
  },
  {
   "cell_type": "code",
   "execution_count": 37,
   "metadata": {},
   "outputs": [
    {
     "data": {
      "text/plain": [
       "['__class__',\n",
       " '__delattr__',\n",
       " '__dict__',\n",
       " '__dir__',\n",
       " '__doc__',\n",
       " '__eq__',\n",
       " '__format__',\n",
       " '__ge__',\n",
       " '__getattribute__',\n",
       " '__gt__',\n",
       " '__hash__',\n",
       " '__init__',\n",
       " '__le__',\n",
       " '__lt__',\n",
       " '__module__',\n",
       " '__ne__',\n",
       " '__new__',\n",
       " '__reduce__',\n",
       " '__reduce_ex__',\n",
       " '__repr__',\n",
       " '__setattr__',\n",
       " '__sizeof__',\n",
       " '__str__',\n",
       " '__subclasshook__',\n",
       " '__unicode__',\n",
       " '__weakref__',\n",
       " '_cache_attrs',\n",
       " '_cmpkey',\n",
       " '_cosmetic_changes_hook',\n",
       " '_defined_by',\n",
       " '_diff_to',\n",
       " '_getInternals',\n",
       " '_get_parsed_page',\n",
       " '_latest_cached_revision',\n",
       " '_link',\n",
       " '_namespace',\n",
       " '_normalizeData',\n",
       " '_normalizeLanguages',\n",
       " '_revisions',\n",
       " '_save',\n",
       " 'addClaim',\n",
       " 'applicable_protections',\n",
       " 'aslink',\n",
       " 'autoFormat',\n",
       " 'backlinks',\n",
       " 'botMayEdit',\n",
       " 'canBeEdited',\n",
       " 'categories',\n",
       " 'change_category',\n",
       " 'clear_cache',\n",
       " 'concept_uri',\n",
       " 'concept_url',\n",
       " 'content_model',\n",
       " 'contributingUsers',\n",
       " 'contributors',\n",
       " 'coordinates',\n",
       " 'create_short_link',\n",
       " 'data_item',\n",
       " 'data_repository',\n",
       " 'defaultsort',\n",
       " 'delete',\n",
       " 'depth',\n",
       " 'editAliases',\n",
       " 'editDescriptions',\n",
       " 'editEntity',\n",
       " 'editLabels',\n",
       " 'editTime',\n",
       " 'embeddedin',\n",
       " 'encoding',\n",
       " 'entity_type',\n",
       " 'exists',\n",
       " 'expand_text',\n",
       " 'extlinks',\n",
       " 'fromPage',\n",
       " 'from_entity_uri',\n",
       " 'fullVersionHistory',\n",
       " 'full_url',\n",
       " 'get',\n",
       " 'getCategoryRedirectTarget',\n",
       " 'getCreator',\n",
       " 'getDeletedRevision',\n",
       " 'getID',\n",
       " 'getLatestEditors',\n",
       " 'getMovedTarget',\n",
       " 'getOldVersion',\n",
       " 'getRedirectTarget',\n",
       " 'getReferences',\n",
       " 'getRestrictions',\n",
       " 'getSitelink',\n",
       " 'getTemplates',\n",
       " 'getVersionHistory',\n",
       " 'getVersionHistoryTable',\n",
       " 'getdbName',\n",
       " 'id',\n",
       " 'image_repository',\n",
       " 'imagelinks',\n",
       " 'interwiki',\n",
       " 'isAutoTitle',\n",
       " 'isCategory',\n",
       " 'isCategoryRedirect',\n",
       " 'isDisambig',\n",
       " 'isEmpty',\n",
       " 'isFlowPage',\n",
       " 'isImage',\n",
       " 'isIpEdit',\n",
       " 'isRedirectPage',\n",
       " 'isStaticRedirect',\n",
       " 'isTalkPage',\n",
       " 'is_categorypage',\n",
       " 'is_filepage',\n",
       " 'is_flow_page',\n",
       " 'is_valid_id',\n",
       " 'iterlanglinks',\n",
       " 'iterlinks',\n",
       " 'itertemplates',\n",
       " 'langlinks',\n",
       " 'lastNonBotUser',\n",
       " 'latestRevision',\n",
       " 'latest_revision',\n",
       " 'latest_revision_id',\n",
       " 'linkedPages',\n",
       " 'loadDeletedRevisions',\n",
       " 'markDeletedRevision',\n",
       " 'mergeInto',\n",
       " 'merge_history',\n",
       " 'move',\n",
       " 'moved_target',\n",
       " 'namespace',\n",
       " 'oldest_revision',\n",
       " 'pageAPInfo',\n",
       " 'page_image',\n",
       " 'pageid',\n",
       " 'permalink',\n",
       " 'preloadText',\n",
       " 'previousRevision',\n",
       " 'previous_revision_id',\n",
       " 'properties',\n",
       " 'protect',\n",
       " 'protection',\n",
       " 'purge',\n",
       " 'put',\n",
       " 'put_async',\n",
       " 'removeClaims',\n",
       " 'removeSitelink',\n",
       " 'removeSitelinks',\n",
       " 'repo',\n",
       " 'revision_count',\n",
       " 'revisions',\n",
       " 'save',\n",
       " 'section',\n",
       " 'sectionFreeTitle',\n",
       " 'setSitelink',\n",
       " 'setSitelinks',\n",
       " 'set_redirect_target',\n",
       " 'site',\n",
       " 'templates',\n",
       " 'text',\n",
       " 'title',\n",
       " 'titleForFilename',\n",
       " 'titleWithoutNamespace',\n",
       " 'title_pattern',\n",
       " 'toJSON',\n",
       " 'toggleTalkPage',\n",
       " 'touch',\n",
       " 'undelete',\n",
       " 'urlname',\n",
       " 'userName',\n",
       " 'version',\n",
       " 'watch']"
      ]
     },
     "execution_count": 37,
     "metadata": {},
     "output_type": "execute_result"
    }
   ],
   "source": [
    "site = pywikibot.Site(\"wikidata\", \"wikidata\")\n",
    "repo = site.data_repository()\n",
    "item = pywikibot.ItemPage(repo, df_artist_wiki['Wiki QID'][3])\n",
    "dir(item)"
   ]
  },
  {
   "cell_type": "code",
   "execution_count": 39,
   "metadata": {},
   "outputs": [
    {
     "data": {
      "text/plain": [
       "{'wb-claims': '43', 'wb-identifiers': '26', 'wb-sitelinks': '2'}"
      ]
     },
     "execution_count": 39,
     "metadata": {},
     "output_type": "execute_result"
    }
   ],
   "source": [
    "item.properties()"
   ]
  },
  {
   "cell_type": "code",
   "execution_count": 12,
   "metadata": {},
   "outputs": [
    {
     "name": "stdout",
     "output_type": "stream",
     "text": [
      "dict_keys(['P3544', 'P3782', 'P268', 'P269', 'P166', 'P650', 'P6379', 'P106', 'P213', 'P2042', 'P3372', 'P3430', 'P69', 'P1988', 'P4200', 'P214', 'P2252', 'P21', 'P569', 'P19', 'P6714', 'P2163', 'P244', 'P5597', 'P5273', 'P2174', 'P227', 'P245', 'P1344', 'P2843', 'P27', 'P4927', 'P1795', 'P735', 'P31', 'P3603', 'P6578'])\n"
     ]
    }
   ],
   "source": [
    "item_dict = item.get() #Get the item dictionary\n",
    "clm_dict = item_dict[\"claims\"] # Get the claim dictionary\n",
    "print(clm_dict.keys())"
   ]
  },
  {
   "cell_type": "code",
   "execution_count": 40,
   "metadata": {},
   "outputs": [
    {
     "data": {
      "text/plain": [
       "dict_keys(['claims', 'aliases', 'sitelinks', 'descriptions', 'labels'])"
      ]
     },
     "execution_count": 40,
     "metadata": {},
     "output_type": "execute_result"
    }
   ],
   "source": [
    "item_dict.keys()"
   ]
  },
  {
   "cell_type": "code",
   "execution_count": 46,
   "metadata": {},
   "outputs": [
    {
     "data": {
      "text/plain": [
       "{'de': ['Chuck Arnoldi'],\n",
       " 'en': ['Charles Arthur Arnoldi', 'Chuck Arnoldi'],\n",
       " 'nl': ['Charles Arthur Arnoldi', 'Chuck Arnoldi']}"
      ]
     },
     "execution_count": 46,
     "metadata": {},
     "output_type": "execute_result"
    }
   ],
   "source": [
    "item_dict['aliases']"
   ]
  },
  {
   "cell_type": "code",
   "execution_count": 26,
   "metadata": {},
   "outputs": [
    {
     "name": "stdout",
     "output_type": "stream",
     "text": [
      "{'type': 'statement', 'mainsnak': {'snaktype': 'value', 'datavalue': {'type': 'wikibase-entityid', 'value': {'numeric-id': 34739, 'entity-type': 'item'}}, 'datatype': 'wikibase-item', 'property': 'P19'}, 'rank': 'normal', 'id': 'Q1063584$8E37030F-FE54-45E5-89B3-87971A0FE950', 'references': [{'hash': 'fa278ebfc458360e5aed63d5058cca83c46134f1', 'snaks': {'P143': [{'snaktype': 'value', 'datavalue': {'type': 'wikibase-entityid', 'value': {'numeric-id': 328, 'entity-type': 'item'}}, 'datatype': 'wikibase-item', 'property': 'P143'}]}, 'snaks-order': ['P143']}]}\n",
      "[[wikidata:Q34739]]\n",
      "<class 'pywikibot.page.ItemPage'>\n",
      "['__class__', '__delattr__', '__dict__', '__dir__', '__doc__', '__eq__', '__format__', '__ge__', '__getattribute__', '__gt__', '__hash__', '__init__', '__le__', '__lt__', '__module__', '__ne__', '__new__', '__reduce__', '__reduce_ex__', '__repr__', '__setattr__', '__sizeof__', '__str__', '__subclasshook__', '__unicode__', '__weakref__', '_cache_attrs', '_cmpkey', '_cosmetic_changes_hook', '_defined_by', '_diff_to', '_getInternals', '_get_parsed_page', '_latest_cached_revision', '_link', '_namespace', '_normalizeData', '_normalizeLanguages', '_revisions', '_save', 'addClaim', 'applicable_protections', 'aslink', 'autoFormat', 'backlinks', 'botMayEdit', 'canBeEdited', 'categories', 'change_category', 'clear_cache', 'concept_uri', 'concept_url', 'content_model', 'contributingUsers', 'contributors', 'coordinates', 'create_short_link', 'data_item', 'data_repository', 'defaultsort', 'delete', 'depth', 'editAliases', 'editDescriptions', 'editEntity', 'editLabels', 'editTime', 'embeddedin', 'encoding', 'entity_type', 'exists', 'expand_text', 'extlinks', 'fromPage', 'from_entity_uri', 'fullVersionHistory', 'full_url', 'get', 'getCategoryRedirectTarget', 'getCreator', 'getDeletedRevision', 'getID', 'getLatestEditors', 'getMovedTarget', 'getOldVersion', 'getRedirectTarget', 'getReferences', 'getRestrictions', 'getSitelink', 'getTemplates', 'getVersionHistory', 'getVersionHistoryTable', 'getdbName', 'id', 'image_repository', 'imagelinks', 'interwiki', 'isAutoTitle', 'isCategory', 'isCategoryRedirect', 'isDisambig', 'isEmpty', 'isFlowPage', 'isImage', 'isIpEdit', 'isRedirectPage', 'isStaticRedirect', 'isTalkPage', 'is_categorypage', 'is_filepage', 'is_flow_page', 'is_valid_id', 'iterlanglinks', 'iterlinks', 'itertemplates', 'langlinks', 'lastNonBotUser', 'latestRevision', 'latest_revision', 'latest_revision_id', 'linkedPages', 'loadDeletedRevisions', 'markDeletedRevision', 'mergeInto', 'merge_history', 'move', 'moved_target', 'namespace', 'oldest_revision', 'pageAPInfo', 'page_image', 'pageid', 'permalink', 'preloadText', 'previousRevision', 'previous_revision_id', 'properties', 'protect', 'protection', 'purge', 'put', 'put_async', 'removeClaims', 'removeSitelink', 'removeSitelinks', 'repo', 'revision_count', 'revisions', 'save', 'section', 'sectionFreeTitle', 'setSitelink', 'setSitelinks', 'set_redirect_target', 'site', 'templates', 'text', 'title', 'titleForFilename', 'titleWithoutNamespace', 'title_pattern', 'toJSON', 'toggleTalkPage', 'touch', 'undelete', 'urlname', 'userName', 'version', 'watch']\n"
     ]
    }
   ],
   "source": [
    "for clm in clm_dict['P19']:\n",
    "    print(clm.toJSON())\n",
    "    clm_trgt = clm.getTarget()\n",
    "    print(clm_trgt)\n",
    "    print(type(clm_trgt))\n",
    "    print(dir(clm_trgt))"
   ]
  },
  {
   "cell_type": "code",
   "execution_count": 35,
   "metadata": {},
   "outputs": [
    {
     "name": "stdout",
     "output_type": "stream",
     "text": [
      "Q34739\n"
     ]
    }
   ],
   "source": [
    "for clm in clm_dict['P19']:\n",
    "    clm_trgt = clm.getTarget()\n",
    "    print(clm_trgt.title())"
   ]
  },
  {
   "cell_type": "code",
   "execution_count": 56,
   "metadata": {},
   "outputs": [
    {
     "name": "stdout",
     "output_type": "stream",
     "text": [
      "[[wikidata:Q34739]]\n",
      "OrderedDict([('P143', [Claim.fromJSON(DataSite(\"wikidata\", \"wikidata\"), {'hash': 'fa278ebfc458360e5aed63d5058cca83c46134f1', 'snaktype': 'value', 'datavalue': {'type': 'wikibase-entityid', 'value': {'numeric-id': 328, 'entity-type': 'item'}}, 'datatype': 'wikibase-item', 'property': 'P143'})])])\n"
     ]
    }
   ],
   "source": [
    "print(clm_dict['P19'][0].getTarget())\n",
    "print(clm_dict['P19'][0].sources[0])"
   ]
  }
 ],
 "metadata": {
  "kernelspec": {
   "display_name": "Python 3",
   "language": "python",
   "name": "python3"
  },
  "language_info": {
   "codemirror_mode": {
    "name": "ipython",
    "version": 3
   },
   "file_extension": ".py",
   "mimetype": "text/x-python",
   "name": "python",
   "nbconvert_exporter": "python",
   "pygments_lexer": "ipython3",
   "version": "3.5.2"
  }
 },
 "nbformat": 4,
 "nbformat_minor": 2
}
