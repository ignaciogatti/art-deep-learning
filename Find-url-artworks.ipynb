{
 "cells": [
  {
   "cell_type": "code",
   "execution_count": null,
   "metadata": {},
   "outputs": [],
   "source": [
    "import pandas as pd\n",
    "import numpy as np"
   ]
  },
  {
   "cell_type": "markdown",
   "metadata": {},
   "source": [
    "## Load data "
   ]
  },
  {
   "cell_type": "code",
   "execution_count": null,
   "metadata": {},
   "outputs": [],
   "source": [
    "#Artwork metadata\n",
    "\n",
    "df_artworks = pd.read_csv('/root/work/datasets/train_mayors_style_encoded_with_url.csv')\n",
    "df_artworks.head()"
   ]
  },
  {
   "cell_type": "markdown",
   "metadata": {},
   "source": [
    "**Get unique artists**"
   ]
  },
  {
   "cell_type": "code",
   "execution_count": null,
   "metadata": {},
   "outputs": [],
   "source": [
    "df_artists = df_artworks['artist'].drop_duplicates().to_frame()\n",
    "df_artists.head()"
   ]
  },
  {
   "cell_type": "code",
   "execution_count": null,
   "metadata": {},
   "outputs": [],
   "source": [
    "df_artists['artist resquest'] = df_artists['artist'].str.lower()\n",
    "df_artists['artist resquest'] = df_artists['artist resquest'].str.replace(' ', '-')\n",
    "df_artists.head()"
   ]
  },
  {
   "cell_type": "markdown",
   "metadata": {},
   "source": [
    "## Fetch data from Wikiart API"
   ]
  },
  {
   "cell_type": "code",
   "execution_count": null,
   "metadata": {},
   "outputs": [],
   "source": [
    "import requests\n",
    "import json"
   ]
  },
  {
   "cell_type": "code",
   "execution_count": null,
   "metadata": {},
   "outputs": [],
   "source": [
    "#Data to access to Wikiart API\n",
    "\n",
    "api_access_key= '37183c6a47324dbb'\n",
    "api_secret_key= '8f6f7c48b8177602'\n",
    "\n",
    "headers = {'X-ApiKeys' : 'accessCode=' + api_access_key + '; secretCode=' + api_secret_key}"
   ]
  },
  {
   "cell_type": "code",
   "execution_count": null,
   "metadata": {},
   "outputs": [],
   "source": [
    "df_fetch_data = pd.DataFrame(columns=['artistContentId', 'artistName', \n",
    "                                      'title', 'completitionYear', 'width', 'height', 'image',\n",
    "                                      'contentId', 'yearAsString'])"
   ]
  },
  {
   "cell_type": "code",
   "execution_count": null,
   "metadata": {},
   "outputs": [],
   "source": [
    "def fetch_data(artist_name):\n",
    "    global df_fetch_data\n",
    "    url = 'http://www.wikiart.org/en/App/Painting/PaintingsByArtist?artistUrl='+artist_name+'&json=2'\n",
    "    r = requests.get(url, headers=headers)\n",
    "    df = pd.DataFrame(r.json())\n",
    "    df_fetch_data = pd.concat([df_fetch_data, df], ignore_index=True)\n",
    "    return len(df_fetch_data)"
   ]
  },
  {
   "cell_type": "code",
   "execution_count": null,
   "metadata": {},
   "outputs": [],
   "source": [
    "import math\n",
    "\n",
    "frame = 200\n",
    "max_complete_frames = math.floor(len(df_artists)/frame)\n",
    "max_complete_frames"
   ]
  },
  {
   "cell_type": "code",
   "execution_count": null,
   "metadata": {},
   "outputs": [],
   "source": [
    "import time\n",
    "\n",
    "for i in np.arange(0, max_complete_frames):\n",
    "    df_test =df_artists[i*frame : (i+1)*frame]\n",
    "    df_test['artist resquest'].apply(fetch_data)\n",
    "    df_fetch_data.to_csv('data_fetched.csv', index=False)\n",
    "    print(\"Iteration \" + str(i) )\n",
    "    time.sleep(3601)"
   ]
  },
  {
   "cell_type": "code",
   "execution_count": null,
   "metadata": {},
   "outputs": [],
   "source": [
    "if len(df_artists) % frame != 0:\n",
    "    df_test = df_artists[max_complete_frames*frame : len(df_artists) ]\n",
    "    df_test['artist resquest'].apply(fetch_data)\n",
    "    df_fetch_data.to_csv('data_fetched.csv', index=False)"
   ]
  },
  {
   "cell_type": "code",
   "execution_count": null,
   "metadata": {},
   "outputs": [],
   "source": [
    "df_fetch_data.to_csv('/root/work/datasets/url_fetched.csv', index=False)"
   ]
  },
  {
   "cell_type": "markdown",
   "metadata": {},
   "source": [
    "### Join data"
   ]
  },
  {
   "cell_type": "code",
   "execution_count": null,
   "metadata": {},
   "outputs": [],
   "source": [
    "artist_problems = []"
   ]
  },
  {
   "cell_type": "code",
   "execution_count": null,
   "metadata": {},
   "outputs": [],
   "source": [
    "def getUrl(X):\n",
    "    if (len(df_fetch_data[(df_fetch_data['artistName'] == X['artist']) & (df_fetch_data['title'] == X['title'])]) != 0):\n",
    "        return df_fetch_data[(df_fetch_data['artistName'] == X['artist']) & (df_fetch_data['title'] == X['title'])]['image'].values[0]\n",
    "    else:\n",
    "        artist_problems.append({'artist': X['artist'], 'title': X['title']})"
   ]
  },
  {
   "cell_type": "code",
   "execution_count": null,
   "metadata": {},
   "outputs": [],
   "source": [
    "df_artworks.head()"
   ]
  },
  {
   "cell_type": "code",
   "execution_count": null,
   "metadata": {},
   "outputs": [],
   "source": [
    "df_artworks['imageUrl'] = df_artworks.apply(getUrl, axis=1)\n",
    "df_artworks.head()"
   ]
  },
  {
   "cell_type": "code",
   "execution_count": null,
   "metadata": {},
   "outputs": [],
   "source": [
    "df_artworks.shape"
   ]
  },
  {
   "cell_type": "markdown",
   "metadata": {},
   "source": [
    "**Save data**"
   ]
  },
  {
   "cell_type": "code",
   "execution_count": null,
   "metadata": {},
   "outputs": [],
   "source": [
    "df_artworks.to_csv('/root/work/datasets/train_mayors_style_encoded_with_url.csv', index=False)"
   ]
  },
  {
   "cell_type": "code",
   "execution_count": null,
   "metadata": {},
   "outputs": [],
   "source": [
    "df_artworks[df_artworks['artist']== 'August Macke']"
   ]
  },
  {
   "cell_type": "markdown",
   "metadata": {},
   "source": [
    "## Analize artist bugs"
   ]
  },
  {
   "cell_type": "code",
   "execution_count": null,
   "metadata": {},
   "outputs": [],
   "source": [
    "df_artists_errors = pd.DataFrame(artist_problems)\n",
    "df_artists_errors.head()"
   ]
  },
  {
   "cell_type": "code",
   "execution_count": null,
   "metadata": {},
   "outputs": [],
   "source": [
    "df_artists_errors.to_csv('artist_to_check.csv', index=False)"
   ]
  },
  {
   "cell_type": "code",
   "execution_count": null,
   "metadata": {},
   "outputs": [],
   "source": [
    "len(df_artists_errors['artist'].unique())"
   ]
  },
  {
   "cell_type": "code",
   "execution_count": null,
   "metadata": {},
   "outputs": [],
   "source": []
  },
  {
   "cell_type": "code",
   "execution_count": null,
   "metadata": {},
   "outputs": [],
   "source": [
    "df_fetch_data[df_fetch_data['artistName'] == 'Ernst Ludwig Kirchner']"
   ]
  }
 ],
 "metadata": {
  "kernelspec": {
   "display_name": "Python 3",
   "language": "python",
   "name": "python3"
  },
  "language_info": {
   "codemirror_mode": {
    "name": "ipython",
    "version": 3
   },
   "file_extension": ".py",
   "mimetype": "text/x-python",
   "name": "python",
   "nbconvert_exporter": "python",
   "pygments_lexer": "ipython3",
   "version": "3.5.2"
  }
 },
 "nbformat": 4,
 "nbformat_minor": 2
}
