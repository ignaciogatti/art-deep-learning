{
 "cells": [
  {
   "cell_type": "code",
   "execution_count": null,
   "metadata": {},
   "outputs": [],
   "source": [
    "import pandas as pd\n",
    "import numpy as np\n",
    "import cv2  # for image processing\n",
    "import scipy.io\n",
    "import os\n",
    "from arts_preprocess_utils import load_dataset, get_image\n",
    "import scipy\n",
    "#from scipy.spatial.distance import directed_hausdorff, cosine\n",
    "from IPython import display\n",
    "%matplotlib inline\n",
    "import matplotlib.pyplot as plt\n",
    "import networkx as nx\n",
    "from graph_utils import get_edge_dict, plot_graph"
   ]
  },
  {
   "cell_type": "code",
   "execution_count": null,
   "metadata": {},
   "outputs": [],
   "source": []
  },
  {
   "cell_type": "code",
   "execution_count": null,
   "metadata": {},
   "outputs": [],
   "source": [
    "import zipfile\n",
    "\n",
    "#dataset from Kaggle\n",
    "filezip = zipfile.ZipFile('/root/work/datasets/train.zip', 'r')"
   ]
  },
  {
   "cell_type": "markdown",
   "metadata": {},
   "source": [
    "## Load Data"
   ]
  },
  {
   "cell_type": "markdown",
   "metadata": {},
   "source": [
    "**Artwork metadata**"
   ]
  },
  {
   "cell_type": "code",
   "execution_count": null,
   "metadata": {},
   "outputs": [],
   "source": [
    "#Artwork metadata\n",
    "\n",
    "#df_artworks = pd.read_csv('/root/work/datasets/train_mayors_style_encoded.csv')\n",
    "df_artworks = pd.read_csv('/root/work/datasets/train_mayors_style_encoded_with_url.csv')\n",
    "df_artworks.head()"
   ]
  },
  {
   "cell_type": "markdown",
   "metadata": {},
   "source": [
    "**Artwork codes**"
   ]
  },
  {
   "cell_type": "code",
   "execution_count": null,
   "metadata": {},
   "outputs": [],
   "source": [
    "#Artwork codes\n",
    "\n",
    "#artwork_code_matrix = np.load('/root/work/datasets/train_mayors_style_encode.npy')\n",
    "artwork_code_matrix = np.load('/root/work/datasets/train_mayors_style_w_encoded.npy')\n",
    "artwork_code_matrix.shape"
   ]
  },
  {
   "cell_type": "markdown",
   "metadata": {},
   "source": [
    "**Influence graph**"
   ]
  },
  {
   "cell_type": "code",
   "execution_count": null,
   "metadata": {},
   "outputs": [],
   "source": [
    "df_edges = pd.read_csv('/root/work/datasets/artist-influences-edges.csv')\n",
    "df_edges.head()"
   ]
  },
  {
   "cell_type": "code",
   "execution_count": null,
   "metadata": {},
   "outputs": [],
   "source": [
    "#Create graph\n",
    "artist_dict = get_edge_dict(df=df_edges, \n",
    "                            col_to_index='Artist', col_to_split='Influence', col_to_clean='Influence')\n",
    "\n",
    "g_artist = nx.from_dict_of_lists(artist_dict)\n",
    "nx.set_edge_attributes(g_artist, 'red', 'color')\n",
    "nx.set_node_attributes(g_artist, 'artist', 'type')"
   ]
  },
  {
   "cell_type": "markdown",
   "metadata": {},
   "source": [
    "**Artwork pivot**"
   ]
  },
  {
   "cell_type": "code",
   "execution_count": null,
   "metadata": {},
   "outputs": [],
   "source": [
    "image_conflict = get_image('agusil-pelo-naranja.jpg')"
   ]
  },
  {
   "cell_type": "code",
   "execution_count": null,
   "metadata": {},
   "outputs": [],
   "source": [
    "df_monet = df_artworks[df_artworks['artist'] == 'Claude Monet']\n",
    "df_monet.head(10)"
   ]
  },
  {
   "cell_type": "code",
   "execution_count": null,
   "metadata": {},
   "outputs": [],
   "source": [
    "#Plot image\n",
    "img_path = filezip.extract('train/' + df_monet['filename'][627])\n",
    "image = get_image(img_path)\n",
    "\n",
    "fig = plt.gcf()\n",
    "fig.set_size_inches(14.5, 6.5)\n",
    "\n",
    "plt.imshow(image[0][...,::-1])"
   ]
  },
  {
   "cell_type": "code",
   "execution_count": null,
   "metadata": {},
   "outputs": [],
   "source": [
    "fig.savefig('./image_result/query.jpg')"
   ]
  },
  {
   "cell_type": "code",
   "execution_count": null,
   "metadata": {},
   "outputs": [],
   "source": [
    "code_image = artwork_code_matrix[627]"
   ]
  },
  {
   "cell_type": "markdown",
   "metadata": {},
   "source": [
    "## Get similar artworks "
   ]
  },
  {
   "cell_type": "markdown",
   "metadata": {},
   "source": [
    "**Cosine similarity**"
   ]
  },
  {
   "cell_type": "code",
   "execution_count": null,
   "metadata": {},
   "outputs": [],
   "source": [
    "from sklearn.metrics.pairwise import cosine_similarity\n",
    "\n",
    "sim_matrix = cosine_similarity(code_image.reshape((1,-1)), artwork_code_matrix)"
   ]
  },
  {
   "cell_type": "markdown",
   "metadata": {},
   "source": [
    "**Earth mover's distance**"
   ]
  },
  {
   "cell_type": "code",
   "execution_count": null,
   "metadata": {},
   "outputs": [],
   "source": [
    "from scipy.stats import wasserstein_distance\n",
    "\n",
    "sim_list = []\n",
    "\n",
    "for i in range(artwork_code_matrix.shape[0]):\n",
    "    sim_list.append(wasserstein_distance(code_image.reshape((-1,)), artwork_code_matrix[i]))\n",
    "    \n",
    "sim_matrix = np.array(sim_list)\n",
    "sim_matrix = sim_matrix.reshape((1,-1))"
   ]
  },
  {
   "cell_type": "code",
   "execution_count": null,
   "metadata": {},
   "outputs": [],
   "source": [
    "index_sorted = np.argsort(sim_matrix)"
   ]
  },
  {
   "cell_type": "code",
   "execution_count": null,
   "metadata": {},
   "outputs": [],
   "source": [
    "top_n = index_sorted[0][-1001:]"
   ]
  },
  {
   "cell_type": "code",
   "execution_count": null,
   "metadata": {},
   "outputs": [],
   "source": [
    "top_n_matrix = np.take(a=sim_matrix, indices=top_n)\n",
    "top_n_matrix.shape"
   ]
  },
  {
   "cell_type": "markdown",
   "metadata": {},
   "source": [
    "**Get top n metadata**"
   ]
  },
  {
   "cell_type": "code",
   "execution_count": null,
   "metadata": {},
   "outputs": [],
   "source": [
    "df_top_n = df_artworks.iloc[top_n]\n",
    "df_top_n['sim_distance'] = top_n_matrix\n",
    "df_top_n.head()"
   ]
  },
  {
   "cell_type": "code",
   "execution_count": null,
   "metadata": {},
   "outputs": [],
   "source": [
    "df_top_n.iloc[-1]['artist']"
   ]
  },
  {
   "cell_type": "markdown",
   "metadata": {},
   "source": [
    "**Re-order taking account artist influence**"
   ]
  },
  {
   "cell_type": "code",
   "execution_count": null,
   "metadata": {},
   "outputs": [],
   "source": [
    "#Pre compute shortest path length\n",
    "length = dict(nx.all_pairs_shortest_path_length(g_artist))"
   ]
  },
  {
   "cell_type": "code",
   "execution_count": null,
   "metadata": {},
   "outputs": [],
   "source": [
    "artist_ocurrence = 0"
   ]
  },
  {
   "cell_type": "code",
   "execution_count": null,
   "metadata": {},
   "outputs": [],
   "source": [
    "def sim_influence(sim_distance, artist_source, artist_target):\n",
    "    global artist_ocurrence\n",
    "    if artist_source == artist_target:\n",
    "        artist_decay = 2 ** artist_ocurrence\n",
    "        artist_ocurrence += 1\n",
    "        return sim_distance * (1./artist_decay)\n",
    "    if artist_target in length[artist_source]:\n",
    "        return sim_distance * (1./length[artist_source][artist_target])\n",
    "    else:\n",
    "        return sim_distance * (1./100)"
   ]
  },
  {
   "cell_type": "code",
   "execution_count": null,
   "metadata": {},
   "outputs": [],
   "source": [
    "df_top_n['sim_influence'] = df_top_n.apply(\n",
    "    lambda x: sim_influence(sim_distance=x['sim_distance'], artist_source='Claude Monet', artist_target=x['artist']),\n",
    "    axis=1 )\n",
    "\n",
    "df_top_n.head()"
   ]
  },
  {
   "cell_type": "code",
   "execution_count": null,
   "metadata": {},
   "outputs": [],
   "source": [
    "df_top_ten = df_top_n.sort_values(by=['sim_influence'], ascending=False)\n",
    "df_top_ten = df_top_ten.head(5)\n",
    "df_top_ten"
   ]
  },
  {
   "cell_type": "code",
   "execution_count": null,
   "metadata": {},
   "outputs": [],
   "source": [
    "df_top_ten = df_top_ten.dropna(subset=['imageUrl'])"
   ]
  },
  {
   "cell_type": "code",
   "execution_count": null,
   "metadata": {},
   "outputs": [],
   "source": [
    "sim_artworks = df_top_ten[['title', 'artist', 'imageUrl']].transpose().to_dict()\n",
    "sim_artworks"
   ]
  },
  {
   "cell_type": "code",
   "execution_count": null,
   "metadata": {},
   "outputs": [],
   "source": []
  },
  {
   "cell_type": "code",
   "execution_count": null,
   "metadata": {},
   "outputs": [],
   "source": [
    "import json\n",
    "\n",
    "values = list(sim_artworks.values())\n",
    "data = []\n",
    "for i in range(len(sim_artworks)):\n",
    "    values[i]['id'] = list(sim_artworks.keys())[i]\n",
    "    data.append(values[i])\n",
    "    \n",
    "data"
   ]
  },
  {
   "cell_type": "markdown",
   "metadata": {},
   "source": [
    "**Plot artworks**"
   ]
  },
  {
   "cell_type": "code",
   "execution_count": null,
   "metadata": {},
   "outputs": [],
   "source": [
    "r, c = 2, 5\n",
    "cnt= 0\n",
    "\n",
    "relative_path = list(df_top_ten['filename'])\n",
    "fig, axs = plt.subplots(r, c)\n",
    "\n",
    "for i in range(r):\n",
    "    for j in range(c):\n",
    "        img_path = filezip.extract('train/' + relative_path[cnt])\n",
    "        axs[i,j].imshow(get_image(img_path)[0][...,::-1])\n",
    "        axs[i,j].axis('off')\n",
    "        cnt += 1\n",
    "\n",
    "fig = plt.gcf()\n",
    "fig.set_size_inches(18.5, 10.5)\n",
    "\n",
    "plt.show()\n"
   ]
  },
  {
   "cell_type": "code",
   "execution_count": null,
   "metadata": {},
   "outputs": [],
   "source": [
    "fig.savefig('./image_result/query_result_wasserstein_II.jpg')"
   ]
  }
 ],
 "metadata": {
  "kernelspec": {
   "display_name": "Python 3",
   "language": "python",
   "name": "python3"
  },
  "language_info": {
   "codemirror_mode": {
    "name": "ipython",
    "version": 3
   },
   "file_extension": ".py",
   "mimetype": "text/x-python",
   "name": "python",
   "nbconvert_exporter": "python",
   "pygments_lexer": "ipython3",
   "version": "3.5.2"
  }
 },
 "nbformat": 4,
 "nbformat_minor": 2
}
