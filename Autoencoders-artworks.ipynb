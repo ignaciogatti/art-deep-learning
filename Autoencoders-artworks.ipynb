{
 "cells": [
  {
   "cell_type": "code",
   "execution_count": null,
   "metadata": {},
   "outputs": [],
   "source": [
    "import tensorflow as tf\n",
    "import keras\n",
    "from keras import backend as K\n",
    "import numpy as np\n",
    "%matplotlib inline\n",
    "import matplotlib.pyplot as plt\n",
    "print(tf.__version__)\n",
    "print(keras.__version__)\n",
    "import cv2  # for image processing\n",
    "from sklearn.model_selection import train_test_split\n",
    "import scipy.io\n",
    "import os\n",
    "import h5py\n",
    "from arts_preprocess_utils import load_dataset\n",
    "from keras.preprocessing.image import ImageDataGenerator\n",
    "from scipy.spatial.distance import directed_hausdorff, cosine"
   ]
  },
  {
   "cell_type": "code",
   "execution_count": null,
   "metadata": {},
   "outputs": [],
   "source": [
    "# !!! remember to clear session/graph if you rebuild your graph to avoid out-of-memory errors !!!\n",
    "def reset_tf_session():\n",
    "    K.clear_session()\n",
    "    tf.reset_default_graph()\n",
    "    s = K.get_session()\n",
    "    return s"
   ]
  },
  {
   "cell_type": "code",
   "execution_count": null,
   "metadata": {},
   "outputs": [],
   "source": [
    "reset_tf_session()"
   ]
  },
  {
   "cell_type": "markdown",
   "metadata": {},
   "source": [
    "## Load dataset"
   ]
  },
  {
   "cell_type": "code",
   "execution_count": null,
   "metadata": {},
   "outputs": [],
   "source": [
    "train_set_x_orig, train_set_y_orig, test_set_x_orig, test_set_y_orig = load_dataset('./wikiart_mini_ic.h5')"
   ]
  },
  {
   "cell_type": "code",
   "execution_count": null,
   "metadata": {},
   "outputs": [],
   "source": [
    "img_Height = train_set_x_orig.shape[1]\n",
    "img_Width = train_set_x_orig.shape[2]\n",
    "N_CLASSES = len(np.unique(test_set_y_orig))-1"
   ]
  },
  {
   "cell_type": "code",
   "execution_count": null,
   "metadata": {},
   "outputs": [],
   "source": [
    "X_train = train_set_x_orig * (1./255)\n",
    "y_train = train_set_y_orig * (1./255)\n",
    "\n",
    "X_dev = test_set_x_orig * (1./255)\n",
    "y_dev = test_set_y_orig * (1./255)"
   ]
  },
  {
   "cell_type": "markdown",
   "metadata": {},
   "source": [
    "**Plot image**"
   ]
  },
  {
   "cell_type": "code",
   "execution_count": null,
   "metadata": {},
   "outputs": [],
   "source": [
    "plt.imshow(X_dev[7][...,::-1])"
   ]
  },
  {
   "cell_type": "markdown",
   "metadata": {},
   "source": [
    "## Autoencoder"
   ]
  },
  {
   "cell_type": "code",
   "execution_count": null,
   "metadata": {},
   "outputs": [],
   "source": [
    "from keras.models import Sequential, Model\n",
    "from keras.layers import Conv2D, MaxPooling2D, Activation, Dropout, Flatten, Dense, BatchNormalization, GlobalAveragePooling2D, Reshape, LeakyReLU, Dropout, UpSampling2D, Conv2DTranspose\n",
    "\n",
    "def build_deep_autoencoder(img_shape,code_size=300, filters = 40):\n",
    "    \"\"\"PCA's deeper brother. See instructions above\"\"\"\n",
    "    \n",
    "    #encoder architecture\n",
    "    encoder = Sequential()\n",
    "    \n",
    "    #output shape: 128x128xfilters\n",
    "    encoder.add(Conv2D(filters, kernel_size=(4,4), strides=(2,2), padding='same', input_shape=img_shape))\n",
    "    encoder.add(BatchNormalization(momentum=0.8))\n",
    "    encoder.add(LeakyReLU())\n",
    "\n",
    "    #output shape: 64x64xfilters*2\n",
    "    encoder.add(Conv2D(filters*2, kernel_size=(4,4), strides=(2,2), padding='same'))\n",
    "    encoder.add(BatchNormalization(momentum=0.8))\n",
    "    encoder.add(LeakyReLU())\n",
    "\n",
    "    #output shape: 32x32xfilters*4\n",
    "    encoder.add(Conv2D(filters*4, kernel_size=(4,4), strides=(2,2), padding='same'))\n",
    "    encoder.add(BatchNormalization(momentum=0.8))\n",
    "    encoder.add(LeakyReLU())\n",
    "\n",
    "    #output shape: 16x16xfilters*8\n",
    "    encoder.add(Conv2D(filters*8, kernel_size=(4,4), strides=(2,2), padding='same'))\n",
    "    encoder.add(BatchNormalization(momentum=0.8))\n",
    "    encoder.add(LeakyReLU())\n",
    "\n",
    "    #output shape: 8x8xfilters*16\n",
    "    encoder.add(Conv2D(filters*16, kernel_size=(4,4), strides=(2,2), padding='same'))\n",
    "    encoder.add(BatchNormalization(momentum=0.8))\n",
    "    encoder.add(LeakyReLU())\n",
    "\n",
    "    #output shape: 4x4xfilters*32\n",
    "    encoder.add(Conv2D(filters*32, kernel_size=(4,4), strides=(2,2), padding='same'))\n",
    "    encoder.add(BatchNormalization(momentum=0.8))\n",
    "    encoder.add(LeakyReLU())\n",
    "\n",
    "    #output shape: 1x1xcode_size\n",
    "    encoder.add(Conv2D(code_size, kernel_size=(4,4)))\n",
    "    encoder.add(BatchNormalization(momentum=0.8))\n",
    "    encoder.add(LeakyReLU())\n",
    "\n",
    "    #decoder architecture\n",
    "    decoder = Sequential()\n",
    "\n",
    "    #output shape: 4x4xfilters*32\n",
    "    decoder.add(Conv2DTranspose(filters * 32, kernel_size=(4, 4),input_shape=(1,1,code_size)))\n",
    "    decoder.add(BatchNormalization())\n",
    "    decoder.add(Activation(activation='relu'))\n",
    "\n",
    "    #output shape: 8x8xfilters*16\n",
    "    decoder.add(Conv2DTranspose(filters * 16, kernel_size=(4,4), strides=(2,2), padding='same'))\n",
    "    decoder.add(BatchNormalization())\n",
    "    decoder.add(Activation(activation='relu'))\n",
    "\n",
    "    #output shape: 16x16xfilters*8\n",
    "    decoder.add(Conv2DTranspose(filters * 8, kernel_size=(4,4), strides=(2,2), padding='same'))\n",
    "    decoder.add(BatchNormalization())\n",
    "    decoder.add(Activation(activation='relu'))\n",
    "\n",
    "    #output shape: 32x32xfilters*4\n",
    "    decoder.add(Conv2DTranspose(filters * 4, kernel_size=(4,4), strides=(2,2), padding='same'))\n",
    "    decoder.add(BatchNormalization())\n",
    "    decoder.add(Activation(activation='relu'))\n",
    "\n",
    "    #output shape: 64x64xfilters*2\n",
    "    decoder.add(Conv2DTranspose(filters * 2, kernel_size=(4,4), strides=(2,2), padding='same'))\n",
    "    decoder.add(BatchNormalization())\n",
    "    decoder.add(Activation(activation='relu'))\n",
    "\n",
    "    #output shape: 128x128xfilters\n",
    "    decoder.add(Conv2DTranspose(filters, kernel_size=(4,4), strides=(2,2), padding='same'))\n",
    "    decoder.add(BatchNormalization())\n",
    "    decoder.add(Activation(activation='relu'))\n",
    "\n",
    "    #output shape: 256x256x3\n",
    "    decoder.add(Conv2DTranspose(3, kernel_size=(4,4), strides=(2,2), padding='same'))\n",
    "    decoder.add(BatchNormalization())\n",
    "    decoder.add(Activation(activation='sigmoid'))\n",
    "    \n",
    "    return encoder,decoder"
   ]
  },
  {
   "cell_type": "code",
   "execution_count": null,
   "metadata": {},
   "outputs": [],
   "source": [
    "encoder, decoder = build_deep_autoencoder(img_shape=(img_Height, img_Width, 3))"
   ]
  },
  {
   "cell_type": "markdown",
   "metadata": {},
   "source": [
    "**Build autoencoder**"
   ]
  },
  {
   "cell_type": "code",
   "execution_count": null,
   "metadata": {},
   "outputs": [],
   "source": [
    "inp = keras.layers.Input((img_Height,img_Width,3))\n",
    "code = encoder(inp)\n",
    "reconstruction = decoder(code)\n",
    "\n",
    "autoencoder = Model(inputs=inp, outputs=reconstruction)"
   ]
  },
  {
   "cell_type": "code",
   "execution_count": null,
   "metadata": {},
   "outputs": [],
   "source": [
    "autoencoder.summary()"
   ]
  },
  {
   "cell_type": "code",
   "execution_count": null,
   "metadata": {},
   "outputs": [],
   "source": [
    "autoencoder.compile(optimizer='adadelta', loss='binary_crossentropy')"
   ]
  },
  {
   "cell_type": "markdown",
   "metadata": {},
   "source": [
    "**Add noise and fit data**"
   ]
  },
  {
   "cell_type": "code",
   "execution_count": null,
   "metadata": {},
   "outputs": [],
   "source": [
    "X_train_noisy = X_train + 0.5 * np.random.normal(loc=0.0, scale=1.0, size=X_train.shape)\n",
    "X_dev_noisy = X_dev + 0.5 * np.random.normal(loc=0.0, scale=1.0, size=X_dev.shape)"
   ]
  },
  {
   "cell_type": "code",
   "execution_count": null,
   "metadata": {},
   "outputs": [],
   "source": [
    "autoencoder.fit(x=X_train_noisy,y=X_train,\n",
    "                epochs=128,\n",
    "                batch_size=64,\n",
    "                shuffle=True, \n",
    "                validation_data=(X_dev_noisy, X_dev))"
   ]
  },
  {
   "cell_type": "code",
   "execution_count": null,
   "metadata": {},
   "outputs": [],
   "source": [
    "encoder.save_weights('encoder01.h5')"
   ]
  },
  {
   "cell_type": "code",
   "execution_count": null,
   "metadata": {},
   "outputs": [],
   "source": [
    "decoder.save_weights('decoder01.h5')"
   ]
  },
  {
   "cell_type": "markdown",
   "metadata": {},
   "source": [
    "**Test autoencoder**"
   ]
  },
  {
   "cell_type": "code",
   "execution_count": null,
   "metadata": {},
   "outputs": [],
   "source": [
    "code = encoder.predict(X_train_noisy[0:10])"
   ]
  },
  {
   "cell_type": "code",
   "execution_count": null,
   "metadata": {},
   "outputs": [],
   "source": [
    "code.shape"
   ]
  },
  {
   "cell_type": "code",
   "execution_count": null,
   "metadata": {},
   "outputs": [],
   "source": [
    "plt.imshow(code.reshape([code[6].shape[-1]//2,-1]))"
   ]
  },
  {
   "cell_type": "code",
   "execution_count": null,
   "metadata": {},
   "outputs": [],
   "source": [
    "reconstructed = decoder.predict(code)"
   ]
  },
  {
   "cell_type": "code",
   "execution_count": null,
   "metadata": {},
   "outputs": [],
   "source": [
    "plt.imshow(reconstructed[4][...,::-1])"
   ]
  },
  {
   "cell_type": "code",
   "execution_count": null,
   "metadata": {},
   "outputs": [],
   "source": [
    "plt.imshow(np.clip(X_train_noisy[4], 0, 1)[...,::-1])"
   ]
  },
  {
   "cell_type": "code",
   "execution_count": null,
   "metadata": {},
   "outputs": [],
   "source": [
    "plt.imshow(X_train[4][...,::-1])"
   ]
  },
  {
   "cell_type": "markdown",
   "metadata": {},
   "source": [
    "**Encode random image**"
   ]
  },
  {
   "cell_type": "code",
   "execution_count": null,
   "metadata": {},
   "outputs": [],
   "source": [
    "img = plt.imread('./Bren.jpg')"
   ]
  },
  {
   "cell_type": "code",
   "execution_count": null,
   "metadata": {},
   "outputs": [],
   "source": [
    "img = cv2.resize(img, (img_Height, img_Width), interpolation=cv2.INTER_CUBIC)\n",
    "img_norm = img *(1./255)\n",
    "img_norm = np.expand_dims(img_norm, axis=0)"
   ]
  },
  {
   "cell_type": "code",
   "execution_count": null,
   "metadata": {},
   "outputs": [],
   "source": [
    "plt.imshow(img_norm[0])"
   ]
  },
  {
   "cell_type": "code",
   "execution_count": null,
   "metadata": {},
   "outputs": [],
   "source": [
    "code = encoder.predict(img_norm)\n",
    "reconstructed = decoder.predict(code)"
   ]
  },
  {
   "cell_type": "code",
   "execution_count": null,
   "metadata": {},
   "outputs": [],
   "source": [
    "plt.imshow(reconstructed[0])"
   ]
  },
  {
   "cell_type": "code",
   "execution_count": null,
   "metadata": {},
   "outputs": [],
   "source": [
    "reconstructed = decoder.predict(np.random.uniform(0, 1, size=[10, 1, 1, 300]))"
   ]
  }
 ],
 "metadata": {
  "kernelspec": {
   "display_name": "Python 3",
   "language": "python",
   "name": "python3"
  },
  "language_info": {
   "codemirror_mode": {
    "name": "ipython",
    "version": 3
   },
   "file_extension": ".py",
   "mimetype": "text/x-python",
   "name": "python",
   "nbconvert_exporter": "python",
   "pygments_lexer": "ipython3",
   "version": "3.6.3"
  }
 },
 "nbformat": 4,
 "nbformat_minor": 2
}
