{
 "cells": [
  {
   "cell_type": "code",
   "execution_count": 1,
   "metadata": {},
   "outputs": [
    {
     "name": "stderr",
     "output_type": "stream",
     "text": [
      "/usr/local/lib/python3.6/dist-packages/h5py/__init__.py:36: FutureWarning: Conversion of the second argument of issubdtype from `float` to `np.floating` is deprecated. In future, it will be treated as `np.float64 == np.dtype(float).type`.\n",
      "  from ._conv import register_converters as _register_converters\n",
      "Using TensorFlow backend.\n"
     ]
    },
    {
     "name": "stdout",
     "output_type": "stream",
     "text": [
      "1.8.0\n",
      "2.1.6\n"
     ]
    }
   ],
   "source": [
    "import tensorflow as tf\n",
    "import keras\n",
    "from keras import backend as K\n",
    "import numpy as np\n",
    "%matplotlib inline\n",
    "import matplotlib.pyplot as plt\n",
    "print(tf.__version__)\n",
    "print(keras.__version__)\n",
    "import cv2  # for image processing\n",
    "from sklearn.model_selection import train_test_split\n",
    "import scipy.io\n",
    "import os\n",
    "import h5py"
   ]
  },
  {
   "cell_type": "code",
   "execution_count": 2,
   "metadata": {},
   "outputs": [],
   "source": [
    "# !!! remember to clear session/graph if you rebuild your graph to avoid out-of-memory errors !!!\n",
    "def reset_tf_session():\n",
    "    K.clear_session()\n",
    "    tf.reset_default_graph()\n",
    "    s = K.get_session()\n",
    "    return s"
   ]
  },
  {
   "cell_type": "code",
   "execution_count": 3,
   "metadata": {},
   "outputs": [],
   "source": [
    "# we will crop and resize input images to IMG_SIZE x IMG_SIZE\n",
    "IMG_SIZE = 256\n",
    "N_CLASSES = 1"
   ]
  },
  {
   "cell_type": "markdown",
   "metadata": {},
   "source": [
    "# Prepare for training"
   ]
  },
  {
   "cell_type": "code",
   "execution_count": 4,
   "metadata": {},
   "outputs": [],
   "source": [
    "def load_dataset():\n",
    "    train_dataset = h5py.File('./img_data.h5', \"r\")\n",
    "    train_set_x_orig = np.array(train_dataset[\"train_set_x\"][:]) # your train set features\n",
    "    train_set_y_orig = np.array(train_dataset[\"train_set_y\"][:]) # your train set labels\n",
    "\n",
    "    return train_set_x_orig, train_set_y_orig"
   ]
  },
  {
   "cell_type": "code",
   "execution_count": 5,
   "metadata": {},
   "outputs": [],
   "source": [
    "def convert_to_one_hot(Y, C):\n",
    "    Y = np.eye(C)[Y.reshape(-1)].T\n",
    "    return Y"
   ]
  },
  {
   "cell_type": "code",
   "execution_count": 6,
   "metadata": {},
   "outputs": [],
   "source": [
    "# batch generator\n",
    "BATCH_SIZE = 32\n",
    "\n",
    "def batch_generator(items, labels, batch_size):\n",
    "    \"\"\"\n",
    "    Implement batch generator that yields items in batches of size batch_size.\n",
    "    There's no need to shuffle input items, just chop them into batches.\n",
    "    Remember about the last batch that can be smaller than batch_size!\n",
    "    Input: any iterable (list, generator, ...). You should do `for item in items: ...`\n",
    "        In case of generator you can pass through your items only once!\n",
    "    Output: In output yield each batch as a list of items.\n",
    "    \"\"\"\n",
    "    \n",
    "    ### YOUR CODE HERE\n",
    "    m = items.shape[0]\n",
    "    batch_items = []\n",
    "    batch_labels = []\n",
    "    for i in np.arange(m):\n",
    "        if len(batch_items) < batch_size - 1:\n",
    "            batch_items.append(items[i])\n",
    "            batch_labels.append(labels[i])\n",
    "        else:\n",
    "            batch_items.append(items[i])\n",
    "            batch_labels.append(labels[i])\n",
    "            yield batch_items, batch_labels\n",
    "            batch_items = []\n",
    "            batch_labels = []\n",
    "    yield batch_items, batch_labels\n"
   ]
  },
  {
   "cell_type": "code",
   "execution_count": 7,
   "metadata": {},
   "outputs": [],
   "source": [
    "def train_generator(items, labels):\n",
    "    while True:  # so that Keras can loop through this as long as it wants\n",
    "        for batch_imgs, batch_labels in batch_generator(items, labels, BATCH_SIZE):\n",
    "            # stack images into 4D tensor [batch_size, img_size, img_size, 3]\n",
    "            batch_imgs = np.stack(batch_imgs, axis=0)\n",
    "            # convert targets into 2D tensor [batch_size, num_classes]\n",
    "            batch_targets = np.array(batch_labels)\n",
    "            yield batch_imgs, batch_targets"
   ]
  },
  {
   "cell_type": "code",
   "execution_count": 8,
   "metadata": {},
   "outputs": [],
   "source": [
    "train_X_orig, train_y_orig = load_dataset()"
   ]
  },
  {
   "cell_type": "code",
   "execution_count": 9,
   "metadata": {},
   "outputs": [],
   "source": [
    "train_X = train_X_orig/255 - 0.5"
   ]
  },
  {
   "cell_type": "code",
   "execution_count": 10,
   "metadata": {},
   "outputs": [
    {
     "data": {
      "text/plain": [
       "(2561, 256, 256, 3)"
      ]
     },
     "execution_count": 10,
     "metadata": {},
     "output_type": "execute_result"
    }
   ],
   "source": [
    "train_X_orig.shape"
   ]
  },
  {
   "cell_type": "code",
   "execution_count": 11,
   "metadata": {},
   "outputs": [
    {
     "data": {
      "text/plain": [
       "(2561,)"
      ]
     },
     "execution_count": 11,
     "metadata": {},
     "output_type": "execute_result"
    }
   ],
   "source": [
    "train_y_orig.shape"
   ]
  },
  {
   "cell_type": "code",
   "execution_count": null,
   "metadata": {},
   "outputs": [],
   "source": [
    "len(np.argwhere(train_y_orig>0.0))"
   ]
  },
  {
   "cell_type": "markdown",
   "metadata": {},
   "source": [
    "## Plot an image"
   ]
  },
  {
   "cell_type": "code",
   "execution_count": 12,
   "metadata": {},
   "outputs": [
    {
     "data": {
      "text/plain": [
       "True"
      ]
     },
     "execution_count": 12,
     "metadata": {},
     "output_type": "execute_result"
    }
   ],
   "source": [
    "h5_img = train_X_orig[1842]\n",
    "file = 'test.jpg'\n",
    "cv2.imwrite(file, h5_img)"
   ]
  },
  {
   "cell_type": "code",
   "execution_count": null,
   "metadata": {},
   "outputs": [],
   "source": [
    "import matplotlib.pylab as plb\n",
    "\n",
    "plb.imshow(cv2.imread(file))"
   ]
  },
  {
   "cell_type": "markdown",
   "metadata": {},
   "source": [
    "# Training"
   ]
  },
  {
   "cell_type": "code",
   "execution_count": 13,
   "metadata": {},
   "outputs": [],
   "source": [
    "# remember to clear session if you start building graph from scratch!\n",
    "s = reset_tf_session()\n",
    "# don't call K.set_learning_phase() !!! (otherwise will enable dropout in train/test simultaneously)"
   ]
  },
  {
   "cell_type": "code",
   "execution_count": 15,
   "metadata": {},
   "outputs": [],
   "source": [
    "def inception(use_imagenet=True):\n",
    "    # load pre-trained model graph, don't add final layer\n",
    "    model = keras.applications.VGG16(include_top=False, input_shape=(IMG_SIZE, IMG_SIZE, 3),\n",
    "                                          weights='imagenet' if use_imagenet else None)\n",
    "    # add global pooling just like in InceptionV3\n",
    "    new_output = keras.layers.GlobalAveragePooling2D()(model.output)\n",
    "    # add new dense layer for our labels\n",
    "    new_output = keras.layers.Dense(N_CLASSES, activation='softmax')(new_output)\n",
    "    model = keras.engine.training.Model(model.inputs, new_output)\n",
    "    return model"
   ]
  },
  {
   "cell_type": "code",
   "execution_count": 16,
   "metadata": {},
   "outputs": [],
   "source": [
    "model = inception()"
   ]
  },
  {
   "cell_type": "code",
   "execution_count": 17,
   "metadata": {},
   "outputs": [
    {
     "name": "stdout",
     "output_type": "stream",
     "text": [
      "_________________________________________________________________\n",
      "Layer (type)                 Output Shape              Param #   \n",
      "=================================================================\n",
      "input_1 (InputLayer)         (None, 256, 256, 3)       0         \n",
      "_________________________________________________________________\n",
      "block1_conv1 (Conv2D)        (None, 256, 256, 64)      1792      \n",
      "_________________________________________________________________\n",
      "block1_conv2 (Conv2D)        (None, 256, 256, 64)      36928     \n",
      "_________________________________________________________________\n",
      "block1_pool (MaxPooling2D)   (None, 128, 128, 64)      0         \n",
      "_________________________________________________________________\n",
      "block2_conv1 (Conv2D)        (None, 128, 128, 128)     73856     \n",
      "_________________________________________________________________\n",
      "block2_conv2 (Conv2D)        (None, 128, 128, 128)     147584    \n",
      "_________________________________________________________________\n",
      "block2_pool (MaxPooling2D)   (None, 64, 64, 128)       0         \n",
      "_________________________________________________________________\n",
      "block3_conv1 (Conv2D)        (None, 64, 64, 256)       295168    \n",
      "_________________________________________________________________\n",
      "block3_conv2 (Conv2D)        (None, 64, 64, 256)       590080    \n",
      "_________________________________________________________________\n",
      "block3_conv3 (Conv2D)        (None, 64, 64, 256)       590080    \n",
      "_________________________________________________________________\n",
      "block3_pool (MaxPooling2D)   (None, 32, 32, 256)       0         \n",
      "_________________________________________________________________\n",
      "block4_conv1 (Conv2D)        (None, 32, 32, 512)       1180160   \n",
      "_________________________________________________________________\n",
      "block4_conv2 (Conv2D)        (None, 32, 32, 512)       2359808   \n",
      "_________________________________________________________________\n",
      "block4_conv3 (Conv2D)        (None, 32, 32, 512)       2359808   \n",
      "_________________________________________________________________\n",
      "block4_pool (MaxPooling2D)   (None, 16, 16, 512)       0         \n",
      "_________________________________________________________________\n",
      "block5_conv1 (Conv2D)        (None, 16, 16, 512)       2359808   \n",
      "_________________________________________________________________\n",
      "block5_conv2 (Conv2D)        (None, 16, 16, 512)       2359808   \n",
      "_________________________________________________________________\n",
      "block5_conv3 (Conv2D)        (None, 16, 16, 512)       2359808   \n",
      "_________________________________________________________________\n",
      "block5_pool (MaxPooling2D)   (None, 8, 8, 512)         0         \n",
      "_________________________________________________________________\n",
      "global_average_pooling2d_1 ( (None, 512)               0         \n",
      "_________________________________________________________________\n",
      "dense_1 (Dense)              (None, 1)                 513       \n",
      "=================================================================\n",
      "Total params: 14,715,201\n",
      "Trainable params: 14,715,201\n",
      "Non-trainable params: 0\n",
      "_________________________________________________________________\n"
     ]
    }
   ],
   "source": [
    "model.summary()"
   ]
  },
  {
   "cell_type": "code",
   "execution_count": 18,
   "metadata": {},
   "outputs": [],
   "source": [
    "# set all layers trainable by default\n",
    "for layer in model.layers:\n",
    "    layer.trainable = True\n",
    "    \n",
    "# fix deep layers (fine-tuning the first layers , where are the styles)\n",
    "for layer in model.layers[-100:]:\n",
    "    layer.trainable = False"
   ]
  },
  {
   "cell_type": "code",
   "execution_count": 19,
   "metadata": {},
   "outputs": [],
   "source": [
    "# compile new model\n",
    "model.compile(\n",
    "    loss='binary_crossentropy',  # we train 102-way classification\n",
    "    optimizer=keras.optimizers.adamax(lr=1e-2),  # we can take big lr here because we fixed first layers\n",
    "    metrics=['accuracy']  # report accuracy during training\n",
    ")"
   ]
  },
  {
   "cell_type": "code",
   "execution_count": 20,
   "metadata": {},
   "outputs": [],
   "source": [
    "# we will save model checkpoints to continue training in case of kernel death\n",
    "model_filename = 'berni.{0:03d}.hdf5'\n",
    "last_finished_epoch = None\n",
    "\n",
    "#### uncomment below to continue training from model checkpoint\n",
    "#### fill `last_finished_epoch` with your latest finished epoch\n",
    "# from keras.models import load_model\n",
    "# s = reset_tf_session()\n",
    "# last_finished_epoch = 10\n",
    "# model = load_model(model_filename.format(last_finished_epoch))"
   ]
  },
  {
   "cell_type": "code",
   "execution_count": null,
   "metadata": {},
   "outputs": [],
   "source": [
    "model.fit(x=train_X, y=train_y_orig, epochs = 20, batch_size = 32, validation_data=(train_X, train_y_orig))"
   ]
  },
  {
   "cell_type": "code",
   "execution_count": 22,
   "metadata": {},
   "outputs": [
    {
     "data": {
      "text/plain": [
       "array([[1.],\n",
       "       [1.],\n",
       "       [1.],\n",
       "       [1.],\n",
       "       [1.],\n",
       "       [1.],\n",
       "       [1.]], dtype=float32)"
      ]
     },
     "execution_count": 22,
     "metadata": {},
     "output_type": "execute_result"
    }
   ],
   "source": [
    "model.predict(train_X_orig[1841:1848,:,:,:])"
   ]
  },
  {
   "cell_type": "code",
   "execution_count": 21,
   "metadata": {},
   "outputs": [
    {
     "name": "stdout",
     "output_type": "stream",
     "text": [
      "Epoch 1/16\n",
      "10/10 [==============================] - 1389s 139s/step - loss: 15.8427 - acc: 0.0063 - val_loss: 15.8178 - val_acc: 0.0078\n",
      "Epoch 2/16\n",
      "10/10 [==============================] - 1305s 131s/step - loss: 15.7929 - acc: 0.0094 - val_loss: 15.8677 - val_acc: 0.0047\n",
      "Epoch 3/16\n",
      "10/10 [==============================] - 1217s 122s/step - loss: 15.6435 - acc: 0.0187 - val_loss: 15.7680 - val_acc: 0.0109\n",
      "Epoch 4/16\n",
      "10/10 [==============================] - 1179s 118s/step - loss: 15.8427 - acc: 0.0063 - val_loss: 15.8178 - val_acc: 0.0078\n",
      "Epoch 5/16\n",
      "10/10 [==============================] - 1141s 114s/step - loss: 15.8926 - acc: 0.0031 - val_loss: 15.8427 - val_acc: 0.0063\n",
      "Epoch 6/16\n",
      "10/10 [==============================] - 1091s 109s/step - loss: 15.7929 - acc: 0.0094 - val_loss: 15.8377 - val_acc: 0.0066\n",
      "Epoch 7/16\n",
      "10/10 [==============================] - 1108s 111s/step - loss: 15.6933 - acc: 0.0156 - val_loss: 15.7182 - val_acc: 0.0141\n",
      "Epoch 8/16\n",
      "10/10 [==============================] - 1099s 110s/step - loss: 15.8427 - acc: 0.0063 - val_loss: 15.7182 - val_acc: 0.0141\n",
      "Epoch 9/16\n",
      "10/10 [==============================] - 1024s 102s/step - loss: 15.8418 - acc: 0.0063 - val_loss: 15.8377 - val_acc: 0.0066\n",
      "Epoch 10/16\n",
      "10/10 [==============================] - 1074s 107s/step - loss: 15.8427 - acc: 0.0063 - val_loss: 15.7929 - val_acc: 0.0094\n",
      "Epoch 11/16\n",
      "10/10 [==============================] - 1064s 106s/step - loss: 15.7929 - acc: 0.0094 - val_loss: 15.7431 - val_acc: 0.0125\n",
      "Epoch 12/16\n",
      "10/10 [==============================] - 1062s 106s/step - loss: 15.6435 - acc: 0.0187 - val_loss: 15.8178 - val_acc: 0.0078\n",
      "Epoch 13/16\n",
      "10/10 [==============================] - 1051s 105s/step - loss: 15.9424 - acc: 0.0000e+00 - val_loss: 15.8926 - val_acc: 0.0031\n",
      "Epoch 14/16\n",
      "10/10 [==============================] - 1007s 101s/step - loss: 15.7431 - acc: 0.0125 - val_loss: 15.8639 - val_acc: 0.0049\n",
      "Epoch 15/16\n",
      "10/10 [==============================] - 1031s 103s/step - loss: 15.6933 - acc: 0.0156 - val_loss: 15.7182 - val_acc: 0.0141\n",
      "Epoch 16/16\n",
      "10/10 [==============================] - 1026s 103s/step - loss: 15.8427 - acc: 0.0063 - val_loss: 15.7680 - val_acc: 0.0109\n"
     ]
    },
    {
     "data": {
      "text/plain": [
       "<keras.callbacks.History at 0x7fda56307940>"
      ]
     },
     "execution_count": 21,
     "metadata": {},
     "output_type": "execute_result"
    }
   ],
   "source": [
    "# fine tune for 2 epochs (full passes through all training data)\n",
    "# we make 2*8 epochs, where epoch is 1/8 of our training data to see progress more often\n",
    "model.fit_generator(\n",
    "    train_generator(train_X, train_y_orig), \n",
    "    steps_per_epoch=len(train_X) // BATCH_SIZE // 8,\n",
    "    epochs=2 * 8,\n",
    "    validation_data=train_generator(train_X, train_y_orig), \n",
    "    validation_steps=len(train_X) // BATCH_SIZE // 4,\n",
    "    initial_epoch=last_finished_epoch or 0\n",
    ")"
   ]
  },
  {
   "cell_type": "code",
   "execution_count": null,
   "metadata": {},
   "outputs": [],
   "source": [
    "model.save_weights('berni_weights.h5')"
   ]
  },
  {
   "cell_type": "code",
   "execution_count": null,
   "metadata": {},
   "outputs": [],
   "source": [
    "model.predict(train_X_orig[0:5,:,:,:])"
   ]
  }
 ],
 "metadata": {
  "kernelspec": {
   "display_name": "Python 3",
   "language": "python",
   "name": "python3"
  },
  "language_info": {
   "codemirror_mode": {
    "name": "ipython",
    "version": 3
   },
   "file_extension": ".py",
   "mimetype": "text/x-python",
   "name": "python",
   "nbconvert_exporter": "python",
   "pygments_lexer": "ipython3",
   "version": "3.6.3"
  }
 },
 "nbformat": 4,
 "nbformat_minor": 2
}
